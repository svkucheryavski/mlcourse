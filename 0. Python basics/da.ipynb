{
 "cells": [
  {
   "cell_type": "markdown",
   "metadata": {},
   "source": [
    "# Python grundlæggende\n",
    "\n",
    "Denne notebook indeholder meget kort information om Python. Brug den, hvis du har brug for en hurtig og enkel reference om de vigtigste datatyper og sprogkonstruktioner."
   ]
  },
  {
   "cell_type": "markdown",
   "metadata": {},
   "source": [
    "## Variabler\n",
    "\n",
    "Alle værdier, du indtaster, læser fra filer eller opretter ved at udføre beregninger, skal gemmes i variabler. En variabel er et sted i computerens hukommelse, hvor værdien er gemt. Python husker positionen af dette sted og giver det en etiket — *variabelnavn*.\n",
    "\n",
    "For at oprette en ny variabel bruges *tildelings*-operatoren, `=`. Her er nogle eksempler:"
   ]
  },
  {
   "cell_type": "code",
   "execution_count": null,
   "metadata": {},
   "outputs": [],
   "source": [
    "# create numeric variable with name \"a\"\n",
    "a = 10\n",
    "a"
   ]
  },
  {
   "cell_type": "code",
   "execution_count": null,
   "metadata": {},
   "outputs": [],
   "source": [
    "# create text variable with name \"last_name\"\n",
    "last_name = \"Peter\"\n",
    "last_name"
   ]
  },
  {
   "cell_type": "markdown",
   "metadata": {},
   "source": [
    "Variablenavn skal starte med et bogstav og kan indeholde bogstaver, tal og understregninger.\n",
    "\n",
    "### Primitive typer\n",
    "\n",
    "Afhængigt af hvilken slags oplysninger du gemmer i en variabel, har de forskellige *typer*. De enkleste typer er:\n",
    "\n",
    "* *integer* — indeholder hele tal (kan være med fortegn eller uden), f.eks. `a = 10`.\n",
    "* *float* — indeholder reelle tal, f.eks. `pi = 3.14`.\n",
    "* *string* — indeholder tekstsymboler, f.eks. `besked = \"Hej verden!\"`.\n",
    "* *boolean* — indeholder logiske værdier `Sandt` og `Falsk`.\n",
    "\n",
    "Her er nogle eksempler:"
   ]
  },
  {
   "cell_type": "code",
   "execution_count": null,
   "metadata": {},
   "outputs": [],
   "source": [
    "a = 10\n",
    "type(a)"
   ]
  },
  {
   "cell_type": "code",
   "execution_count": null,
   "metadata": {},
   "outputs": [],
   "source": [
    "b = 10.5\n",
    "type(b)"
   ]
  },
  {
   "cell_type": "code",
   "execution_count": null,
   "metadata": {},
   "outputs": [],
   "source": [
    "c = \"Peter\"\n",
    "type(c)"
   ]
  },
  {
   "cell_type": "code",
   "execution_count": null,
   "metadata": {},
   "outputs": [],
   "source": [
    "d = True\n",
    "type(d)"
   ]
  },
  {
   "cell_type": "markdown",
   "metadata": {},
   "source": [
    "Nogle typer kan konverteres til andre, for eksempel flydende punkttal (float) til heltal (integer):"
   ]
  },
  {
   "cell_type": "code",
   "execution_count": null,
   "metadata": {},
   "outputs": [],
   "source": [
    "a = 10.567\n",
    "b = int(a)\n",
    "(a, b)"
   ]
  },
  {
   "cell_type": "code",
   "execution_count": null,
   "metadata": {},
   "outputs": [],
   "source": [
    "(type(a), type(b))"
   ]
  },
  {
   "cell_type": "markdown",
   "metadata": {},
   "source": [
    "Såvel som ethvert tal kan konverteres til en streng (string):"
   ]
  },
  {
   "cell_type": "code",
   "execution_count": null,
   "metadata": {},
   "outputs": [],
   "source": [
    "a = 10.567\n",
    "b = str(a)\n",
    "(a, b)"
   ]
  },
  {
   "cell_type": "code",
   "execution_count": null,
   "metadata": {},
   "outputs": [],
   "source": [
    "(type(a), type(b))"
   ]
  },
  {
   "cell_type": "markdown",
   "metadata": {},
   "source": [
    "### Beholdere\n",
    "\n",
    "Hvis variabler af primitiv type kun kan indeholde én værdi, kan beholdere bruges til at kombinere flere værdier (eller flere variabler eller endda flere beholdere) sammen.\n",
    "\n",
    "Den enkleste beholder i Python er et *tupel*, som du opretter ved at bruge `(` og `)`. For eksempel:"
   ]
  },
  {
   "cell_type": "code",
   "execution_count": null,
   "metadata": {},
   "outputs": [],
   "source": [
    "fruit = (\"apple\", \"pear\", \"lemon\")\n",
    "fruit"
   ]
  },
  {
   "cell_type": "code",
   "execution_count": null,
   "metadata": {},
   "outputs": [],
   "source": [
    "type(fruit)"
   ]
  },
  {
   "cell_type": "markdown",
   "metadata": {},
   "source": [
    "Du så allerede tuplerne i kodeeksemplerne ovenfor, vi brugte dem til at vise to variabler på samme tid.\n",
    "\n",
    "Den anden type beholder, som er meget lig tuples, er en liste. Lister oprettes på samme måde som tuples, men med firkantede parenteser: `[` og `]`:"
   ]
  },
  {
   "cell_type": "code",
   "execution_count": null,
   "metadata": {},
   "outputs": [],
   "source": [
    "vegs = [\"cucumber\", \"tomato\", \"squash\"]\n",
    "vegs"
   ]
  },
  {
   "cell_type": "code",
   "execution_count": null,
   "metadata": {},
   "outputs": [],
   "source": [
    "type(vegs)"
   ]
  },
  {
   "cell_type": "markdown",
   "metadata": {},
   "source": [
    "I både tupler og lister har hver værdi et indeks. Indekserne i Python starter altid ved 0, så den første værdi har indeks 0, den anden har indeks 1, osv. Du kan få en værdi fra en tuple eller fra en liste ved at specificere dens indeks:"
   ]
  },
  {
   "cell_type": "code",
   "execution_count": null,
   "metadata": {},
   "outputs": [],
   "source": [
    "v = vegs[1]\n",
    "v"
   ]
  },
  {
   "cell_type": "code",
   "execution_count": null,
   "metadata": {},
   "outputs": [],
   "source": [
    "f = fruit[0]\n",
    "f"
   ]
  },
  {
   "cell_type": "markdown",
   "metadata": {},
   "source": [
    "Vær opmærksom på, at selvom tuples oprettes med symboler `(` `)`, skal du angive dets indeks i firkantede parenteser for at få adgang til en værdi fra en tuple.\n",
    "\n",
    "Hvad er forskellen på tupler og lister? Lister kan ændres, hvilket betyder, at du kan erstatte enhver værdi inde i listen med en ny:"
   ]
  },
  {
   "cell_type": "code",
   "execution_count": null,
   "metadata": {},
   "outputs": [],
   "source": [
    "vegs[1] = \"potato\"\n",
    "vegs"
   ]
  },
  {
   "cell_type": "markdown",
   "metadata": {},
   "source": [
    "Selvom tupler er uforanderlige, hvilket betyder, at du ikke kan ændre dens værdier, efter du har oprettet en tuple:"
   ]
  },
  {
   "cell_type": "code",
   "execution_count": null,
   "metadata": {},
   "outputs": [],
   "source": [
    "# this will give an error message!\n",
    "fruit[1] = \"orange\""
   ]
  },
  {
   "cell_type": "markdown",
   "metadata": {},
   "source": [
    "Du kan også udvide og mindske listerne:"
   ]
  },
  {
   "cell_type": "code",
   "execution_count": null,
   "metadata": {},
   "outputs": [],
   "source": [
    "# add a new value to the end of the list\n",
    "vegs.append(\"carrot\")\n",
    "vegs"
   ]
  },
  {
   "cell_type": "code",
   "execution_count": null,
   "metadata": {},
   "outputs": [],
   "source": [
    "# remove value with index 2 (\"squash\") from the list\n",
    "vegs.pop(2)\n",
    "vegs"
   ]
  },
  {
   "cell_type": "markdown",
   "metadata": {},
   "source": [
    ">Du kan tænke på en variabel som en enkelt frugt, du kan få fra et grøntafdeling i et supermarked. Beholdere er plastikposer eller kasser du kan bruge til at pakke flere frugter sammen som et enkelt element. Så hvis det er en plastikpose, hvor du kan lægge et hvilket som helst antal frugter, fjerne eller erstatte nogle senere, er det et eksempel på en liste. Hvis det er en forseglet pose, hvor du ikke kan erstatte en frugt, er det et eksempel på en tuple."
   ]
  },
  {
   "cell_type": "markdown",
   "metadata": {},
   "source": [
    "Både lister og tupler kan udpakkes — så hvert element i beholderen tildeles til en separat variabel:"
   ]
  },
  {
   "cell_type": "code",
   "execution_count": null,
   "metadata": {},
   "outputs": [],
   "source": [
    "person = (\"Peter\", 170, 79)\n",
    "person"
   ]
  },
  {
   "cell_type": "code",
   "execution_count": null,
   "metadata": {},
   "outputs": [],
   "source": [
    "name, height, weight = person\n",
    "print(name)"
   ]
  },
  {
   "cell_type": "markdown",
   "metadata": {},
   "source": [
    "Hvis du vil pakke kun en del af et tupel eller en liste ud, f.eks. tage første og tredje elementer, så brug understregningen `_` for de elementer, du ikke har brug for at gemme i en separat variabel:"
   ]
  },
  {
   "cell_type": "code",
   "execution_count": null,
   "metadata": {},
   "outputs": [],
   "source": [
    "_, height, weight = person\n",
    "weight"
   ]
  },
  {
   "cell_type": "markdown",
   "metadata": {},
   "source": [
    "Python har en anden type beholder - en *ordbog*. Ordbogen ligner en liste, men hvert værdi i ordbogen har en tekst-id - en *nøgle*. Ordbøger oprettes ved hjælp af `{` `}` og derefter liste nøgler og værdier indeni.\n",
    "\n",
    "Her er et eksempel:"
   ]
  },
  {
   "cell_type": "code",
   "execution_count": null,
   "metadata": {},
   "outputs": [],
   "source": [
    "dinner = {\"starter\": \"soup\", \"main dish\": \"paella\", \"desert\": \"apple pie\"}\n",
    "dinner"
   ]
  },
  {
   "cell_type": "code",
   "execution_count": null,
   "metadata": {},
   "outputs": [],
   "source": [
    "type(dinner)"
   ]
  },
  {
   "cell_type": "markdown",
   "metadata": {},
   "source": [
    "Adgang til ordbogens værdier ligner tuples og lister, men du skal angive nøglen i stedet for indeks:"
   ]
  },
  {
   "cell_type": "code",
   "execution_count": null,
   "metadata": {},
   "outputs": [],
   "source": [
    "dinner[\"starter\"]"
   ]
  },
  {
   "cell_type": "markdown",
   "metadata": {},
   "source": [
    "Alle tre beholdere har en metode `len()`, som viser antallet af elementer i beholderen."
   ]
  },
  {
   "cell_type": "code",
   "execution_count": null,
   "metadata": {},
   "outputs": [],
   "source": [
    "len(dinner)"
   ]
  },
  {
   "cell_type": "markdown",
   "metadata": {},
   "source": [
    "Beholdere kan også bestå af beholdere, du kan indlejre lister indeni lister, lave liste af tuples eller dictionary af lister. Her er nogle eksempler:"
   ]
  },
  {
   "cell_type": "code",
   "execution_count": null,
   "metadata": {},
   "outputs": [],
   "source": [
    "# create lists with values\n",
    "height = [180, 190, 176, 181]\n",
    "weight = [81, 88, 75, 84]\n",
    "names = [\"Bob\", \"Anne\", \"Peter\", \"Lena\"]\n",
    "\n",
    "# create dictionary with lists\n",
    "people = {\"height\": height, \"weight\": weight, \"names\": names}\n",
    "people"
   ]
  },
  {
   "cell_type": "code",
   "execution_count": null,
   "metadata": {},
   "outputs": [],
   "source": [
    "people[\"names\"]"
   ]
  },
  {
   "cell_type": "code",
   "execution_count": null,
   "metadata": {},
   "outputs": [],
   "source": [
    "persons = [\n",
    "    (\"Bob\", 170, 80),\n",
    "    (\"Peter\", 180, 78),\n",
    "    (\"Anne\", 175, 70)\n",
    "]\n",
    "persons"
   ]
  },
  {
   "cell_type": "code",
   "execution_count": null,
   "metadata": {},
   "outputs": [],
   "source": [
    "persons[1]"
   ]
  },
  {
   "cell_type": "markdown",
   "metadata": {},
   "source": [
    "## Funktioner\n",
    "\n",
    "Funktioner er en almindelig måde at undgå at gentage lignende kode i Python og andre programmeringssprog. I de kodeeksempler ovenfor har vi allerede brugt to funktioner, `type()`, som returnerer variabeltypen (som streng) for en hvilken som helst variabel, og `len()`, som returnerer antallet af elementer i en beholder.\n",
    "\n",
    "Fra disse to eksempler kan du se, at en typisk funktion tager nogle *argumenter* (de kaldes også *parametre*), gør derefter noget og returnerer resultatet tilbage til programmet. For eksempel tager funktionen `len()` en beholder som parameter og returnerer antallet af dens elementer som resultat. Hvordan den finder denne information, ved vi ikke, da det er skjult inde i funktionen.\n",
    "\n",
    "Her er endnu et eksempel:"
   ]
  },
  {
   "cell_type": "code",
   "execution_count": null,
   "metadata": {},
   "outputs": [],
   "source": [
    "names = [\"Bob\", \"Anne\", \"Peter\", \"Lena\"]\n",
    "l = len(names)\n",
    "l"
   ]
  },
  {
   "cell_type": "markdown",
   "metadata": {},
   "source": [
    "I dette eksempel er variablen `names` (liste med fire elementer) en værdi, vi sender til funktionen `len()` som en parameter. Resultatet returneret af funktionen gemmer vi i en anden variabel, `l`, hvis værdi vi viser på skærmen.\n",
    "\n",
    "Lad os skrive vores egen funktion, som vil beregne arealet af en cirkel ved at kende dens radius. Tilsyneladende vil denne funktion kun have en parameter — radius, og returnere en værdi — arealet.\n",
    "\n",
    "Her er hvordan man implementerer det. Bemærk indrykningen (ekstra plads til venstre) i koden, som er en del af funktionen. Brug tab-tasten for at tilføje det:"
   ]
  },
  {
   "cell_type": "code",
   "execution_count": null,
   "metadata": {},
   "outputs": [],
   "source": [
    "def get_circle_area(radius):\n",
    "    area = radius * radius * 3.1415926\n",
    "    return area"
   ]
  },
  {
   "cell_type": "markdown",
   "metadata": {},
   "source": [
    "Kør denne celle (ingen ting vil ske), men Python vil indlæse denne funktion i hukommelsen, så den vil være tilgængelig for andre celler i denne notebook. Lad os teste den:"
   ]
  },
  {
   "cell_type": "code",
   "execution_count": null,
   "metadata": {},
   "outputs": [],
   "source": [
    "get_circle_area(10)"
   ]
  },
  {
   "cell_type": "markdown",
   "metadata": {},
   "source": [
    "Som du kan se, gemte vi ikke resultatet, men viste det kun. Hvis vi selvfølgelig har brug for at bruge denne værdi senere i koden, kan vi gemme den i en variabel:"
   ]
  },
  {
   "cell_type": "code",
   "execution_count": null,
   "metadata": {},
   "outputs": [],
   "source": [
    "a = get_circle_area(10)\n",
    "a"
   ]
  },
  {
   "cell_type": "markdown",
   "metadata": {},
   "source": [
    "Hvis du ser på koden til funktionen, kan du bemærke, at vi ikke genbruger variablen `area` inde i denne funktion. Nå, faktisk bruger vi den, men kun for at returnere dens værdi tilbage til koden. I dette tilfælde behøver du ikke at oprette en separat variabel og kan blot returnere resultatet af beregningerne direkte:"
   ]
  },
  {
   "cell_type": "code",
   "execution_count": null,
   "metadata": {},
   "outputs": [],
   "source": [
    "def get_circle_area(radius):\n",
    "    return radius * radius * 3.1415926"
   ]
  },
  {
   "cell_type": "markdown",
   "metadata": {},
   "source": [
    "Funktionen kan have et vilkårligt antal argumenter, her er et eksempel hvor vi opretter en anden funktion, som beregner volumen af en cylinder. I dette tilfælde skal vi kende dens radius og dens højde."
   ]
  },
  {
   "cell_type": "code",
   "execution_count": null,
   "metadata": {},
   "outputs": [],
   "source": [
    "def get_cylinder_volume(radius, height):\n",
    "    return get_circle_area(radius) * height"
   ]
  },
  {
   "cell_type": "code",
   "execution_count": null,
   "metadata": {},
   "outputs": [],
   "source": [
    "get_cylinder_volume(5, 10)"
   ]
  },
  {
   "cell_type": "markdown",
   "metadata": {},
   "source": [
    "Så hvis vi har en cylinder med en radius på 5 cm (10 cm i diameter) og en højde på 10 cm, vil dens volumen være 785,4 kubikcentimeter.\n",
    "\n",
    "Vær opmærksom på, at i denne nye funktion har vi genbrugt den, vi oprettede før. Ved at dele din kode op i relativt små funktioner gør du den kortere, mere klar og mere effektiv.\n",
    "\n",
    "Som du kan se, når vi angiver værdier, specificerer vi ikke, hvilken der er radius og hvilken der er højde. Python bruger som standard samme position, som de er angivet i funktionsdefinitionen — første værdi vil altid blive behandlet som radius og den anden som højde.\n",
    "\n",
    "Hvis du ikke kan huske positionen for hver parameter (især når en funktion har mange af dem), kan du specificere deres værdier ved navn. I dette tilfælde betyder rækkefølgen ikke noget:"
   ]
  },
  {
   "cell_type": "code",
   "execution_count": null,
   "metadata": {},
   "outputs": [],
   "source": [
    "get_cylinder_volume(height = 10, radius = 5)"
   ]
  },
  {
   "cell_type": "markdown",
   "metadata": {},
   "source": [
    " Lad os nu tilføje en ny parameter, `scale`, som kan bruges til at skalere både radius og højde med et tal. For eksempel er højde og radius som standard angivet i meter, så hvis du vil fortælle funktionen, at de værdier, du har angivet, er i centimeter, skal du angive en skalfaktor på `0,01`. Her er implementeringen:"
   ]
  },
  {
   "cell_type": "code",
   "execution_count": null,
   "metadata": {},
   "outputs": [],
   "source": [
    "def get_cylinder_volume(radius, height, scale):\n",
    "    return get_circle_area(radius * scale) * (height * scale)"
   ]
  },
  {
   "cell_type": "code",
   "execution_count": null,
   "metadata": {},
   "outputs": [],
   "source": [
    "get_cylinder_volume(5, 10, 0.01)"
   ]
  },
  {
   "cell_type": "markdown",
   "metadata": {},
   "source": [
    "I det ovenstående eksempel angav vi radius og højde i cm, men vi fik resultatet i kubikmeter, fordi vi også specificerede skalaværdien.\n",
    "\n",
    "Ulempen ved denne nye funktion er, at vi nu altid skal specificere skala-parameteren. Hvad nu hvis du mest af tiden angiver værdier i cm og meget sjældent i meter eller decimeter? I så fald kan du angive en standardværdi for parameteren:"
   ]
  },
  {
   "cell_type": "code",
   "execution_count": null,
   "metadata": {},
   "outputs": [],
   "source": [
    "def get_cylinder_volume(radius, height, scale = 0.01):\n",
    "    return get_circle_area(radius * scale) * (height * scale)"
   ]
  },
  {
   "cell_type": "markdown",
   "metadata": {},
   "source": [
    "Hvis du angiver skalaen, vil funktionen bruge den værdi, du har angivet. Men hvis du ikke gør det, vil den blot tage standardværdien:"
   ]
  },
  {
   "cell_type": "code",
   "execution_count": null,
   "metadata": {},
   "outputs": [],
   "source": [
    "# without scale - it will use 0.01 as default\n",
    "get_cylinder_volume(5, 10)"
   ]
  },
  {
   "cell_type": "code",
   "execution_count": null,
   "metadata": {},
   "outputs": [],
   "source": [
    "# or you can specify it directly\n",
    "get_cylinder_volume(5, 10, 1)"
   ]
  },
  {
   "cell_type": "markdown",
   "metadata": {},
   "source": [
    "Endelig, hvis du skal bruge denne funktion intensivt og måske endda dele den med andre, er det en god idé at beskrive dens adfærd og dens argumenter. Dette kan gøres ved at give hvad der kaldes en *dokumentstreng*:"
   ]
  },
  {
   "cell_type": "code",
   "execution_count": null,
   "metadata": {},
   "outputs": [],
   "source": [
    "def get_cylinder_volume(radius, height, scale = 0.01):\n",
    "    \"\"\"\n",
    "    Computes volume of a cylinder in cubic meters.\n",
    "\n",
    "    Arguments:\n",
    "    ----------\n",
    "    radius: radius of the cylinder\n",
    "    height: height of the cylinder\n",
    "    scale: scale factor for radius and height (0.01 for cm, 1 for m)\n",
    "\n",
    "    Returns:\n",
    "    --------\n",
    "    the compued volume\n",
    "    \"\"\"\n",
    "\n",
    "    return get_circle_area(radius * scale) * (height * scale)"
   ]
  },
  {
   "cell_type": "markdown",
   "metadata": {},
   "source": [
    "Nu skal du flytte musen over funktionsnavnet i næste kodeblok. Du vil se en svævende dialog med dokumentationsteksten, du har skrevet:"
   ]
  },
  {
   "cell_type": "code",
   "execution_count": null,
   "metadata": {},
   "outputs": [],
   "source": [
    "get_cylinder_volume(5, 10, 1)"
   ]
  },
  {
   "cell_type": "markdown",
   "metadata": {},
   "source": [
    "Du bestemmer selv, hvor detaljeret docstringen skal være.\n",
    "\n",
    "Funktioner kan også returnere flere værdier, i så fald kombiner dem bare til et tuple, når de returneres."
   ]
  },
  {
   "cell_type": "code",
   "execution_count": null,
   "metadata": {},
   "outputs": [],
   "source": [
    "def div(a, b):\n",
    "    \"\"\" computes reminder and quotient of a / b and return both \"\"\"\n",
    "    q = a // b\n",
    "    r = a % b\n",
    "    return (q, r)"
   ]
  },
  {
   "cell_type": "code",
   "execution_count": null,
   "metadata": {},
   "outputs": [],
   "source": [
    "a = 13\n",
    "b = 3\n",
    "q, r = div(a, b)\n",
    "print(f\"{a} = {q} * {b} + {r}\")"
   ]
  },
  {
   "cell_type": "markdown",
   "metadata": {},
   "source": [
    "Og igen kan vi gøre funktionen kortere ved at beregne resultaterne inden i tuplen med resultater, og springe oprettelsen af variablerne over:"
   ]
  },
  {
   "cell_type": "code",
   "execution_count": null,
   "metadata": {},
   "outputs": [],
   "source": [
    "def div(a, b):\n",
    "    \"\"\" computes reminder and quotient of a / b and returns both \"\"\"\n",
    "    return (a // b, a % b)"
   ]
  },
  {
   "cell_type": "markdown",
   "metadata": {},
   "source": [
    "Du har allerede lagt mærke til, at hvis vi skriver et variabelnavn i slutningen af cellen, så vil vi se dets værdi, når vi kører cellekoden:"
   ]
  },
  {
   "cell_type": "code",
   "execution_count": null,
   "metadata": {},
   "outputs": [],
   "source": [
    "a = 10.6\n",
    "a"
   ]
  },
  {
   "cell_type": "markdown",
   "metadata": {},
   "source": [
    "Det samme gælder, hvis du gør noget, der returnerer en værdi som et resultat:"
   ]
  },
  {
   "cell_type": "code",
   "execution_count": null,
   "metadata": {},
   "outputs": [],
   "source": [
    "10 * 5 / 2"
   ]
  },
  {
   "cell_type": "markdown",
   "metadata": {},
   "source": [
    "Men prøv at køre følgende kode:"
   ]
  },
  {
   "cell_type": "code",
   "execution_count": null,
   "metadata": {},
   "outputs": [],
   "source": [
    "a = 10.5\n",
    "a\n",
    "\n",
    "b = 78.9\n",
    "b"
   ]
  },
  {
   "cell_type": "markdown",
   "metadata": {},
   "source": [
    "Du kan se, at i dette tilfælde ser vi ikke værdien af `a`, som standard udskriver Jupyter-notebogen kun den sidste værdi i cellen. Du kan tvinge den til at vise begge, hvis du bruger funktionen `print()`:"
   ]
  },
  {
   "cell_type": "code",
   "execution_count": null,
   "metadata": {},
   "outputs": [],
   "source": [
    "a = 10.5\n",
    "print(a)\n",
    "\n",
    "b = 78.9\n",
    "print(b)"
   ]
  },
  {
   "cell_type": "markdown",
   "metadata": {},
   "source": [
    "Dog i vores eksempler `print()` viser kun en værdi. Det ville være rart at pakke den ind i noget tekst, der giver yderligere information. Dette kan gøres ved at bruge en speciel type strenge i Python - [f-strenge](https://docs.python.org/3/tutorial/inputoutput.html).\n",
    "\n",
    "Her står bogstavet \"f\" for \"formateret\". Reglerne er følgende:\n",
    "\n",
    "- start strengen med bogstavet `f` og brug derefter dobbelt eller enkelt citater som for en normal streng.\n",
    "- skriv normal tekst inde i citaterne.\n",
    "- hvis du vil vise en variabelværdi inden i teksten, skal du bruge krøllede parenteser.\n",
    "\n",
    "Her er et eksempel:"
   ]
  },
  {
   "cell_type": "code",
   "execution_count": null,
   "metadata": {},
   "outputs": [],
   "source": [
    "radius = 5.0\n",
    "area = get_circle_area(radius)\n",
    "\n",
    "print(f\"Area of a circle with radius {radius} cm is {area} squared cm.\")"
   ]
  },
  {
   "cell_type": "markdown",
   "metadata": {},
   "source": [
    "Du kan også specificere, hvordan numeriske værdier skal vises - hvor mange cifre der skal bruges, og hvor mange decimaler. For eksempel lad os vise området som flydende punkttal med en decimal:"
   ]
  },
  {
   "cell_type": "code",
   "execution_count": null,
   "metadata": {},
   "outputs": [],
   "source": [
    "print(f\"Area of a circle with radius {radius} cm is {area:.1f} squared cm.\")"
   ]
  },
  {
   "cell_type": "markdown",
   "metadata": {},
   "source": [
    "Som du kan se for at definere format, tilføj blot semikolon efter variabelnavnet og formatet: `:.1f`, som i dette tilfælde betyder flydende punkt med én decimal. Du kan læse mere om formateringsoptionerne i den [officielle dokumentation](https://docs.python.org/3/tutorial/inputoutput.html)."
   ]
  },
  {
   "cell_type": "markdown",
   "metadata": {},
   "source": [
    "## Løkker\n",
    "\n",
    "Løkke er en måde at gentage en eller flere linjer kode flere gange. Den enkleste måde er en `for`-løkke, hvor du kan specificere præcist hvor mange gange den skal køre. Tanken bag en for-løkke er som følger.\n",
    "\n",
    "1. Definér en beholder med flere elementer\n",
    "2. Brug `for` til at iterere over elementerne\n",
    "3. Skriv kode, som du gerne vil køre ved hver iteration med indrykning.\n",
    "\n",
    "Her er et eksempel:"
   ]
  },
  {
   "cell_type": "code",
   "execution_count": null,
   "metadata": {},
   "outputs": [],
   "source": [
    "x = [10, 20, 30]\n",
    "\n",
    "for i in x:\n",
    "    print(i * 2)"
   ]
  },
  {
   "cell_type": "markdown",
   "metadata": {},
   "source": [
    "Som du kan se, først oprettede vi en beholder (liste i dette tilfælde) og bruger derefter løkke til at iterere over beholderens elementer. Løkken har en speciel variabel (i vores tilfælde `i`). Ved den første gennemløb er denne variabel lig med det første element i beholderen. Ved den anden gennemløb har den samme værdi som det andet element, og så videre. Dermed vil koden inde i løkken blive gentaget lige så mange gange som der er elementer i beholderen.\n",
    "\n",
    "Som med funktioner skal linjerne med kode, der er en del af løkken, have ekstra plads i venstre side (indrykning). Dette er måden, Python forstår, hvad der skal køres inde i løkken, og hvad der er udenfor. Her er to eksempler for at hjælpe dig med at forstå dette:"
   ]
  },
  {
   "cell_type": "code",
   "execution_count": null,
   "metadata": {},
   "outputs": [],
   "source": [
    "# the last line is without indentation so it will be executed only\n",
    "# once, after the loop\n",
    "for i in x:\n",
    "    print(i * 2)\n",
    "print(\"we are done!\")"
   ]
  },
  {
   "cell_type": "code",
   "execution_count": null,
   "metadata": {},
   "outputs": [],
   "source": [
    "# the last line has indentation so it will be executed at every iteration\n",
    "for i in x:\n",
    "    print(i * 2)\n",
    "    print(\"we are done!\")"
   ]
  },
  {
   "cell_type": "markdown",
   "metadata": {},
   "source": [
    "Du kan også gennemgå en tuple:"
   ]
  },
  {
   "cell_type": "code",
   "execution_count": null,
   "metadata": {},
   "outputs": [],
   "source": [
    "names = (\"John\", \"Peter\", \"Lene\")\n",
    "\n",
    "for n in names:\n",
    "    print(f\"Hello, {n}!\")"
   ]
  },
  {
   "cell_type": "markdown",
   "metadata": {},
   "source": [
    "Og selv over en ordbog vil du i dette tilfælde løbe igennem nøglerne, ikke værdierne:"
   ]
  },
  {
   "cell_type": "code",
   "execution_count": null,
   "metadata": {},
   "outputs": [],
   "source": [
    "dinner = {\"starter\": \"salad with tuna\", \"main dish\": \"seafood paella\", \"desert\": \"ice-cream\"}\n",
    "\n",
    "for key in dinner:\n",
    "    print(f\"for {key} we will eat {dinner[key]}\")"
   ]
  },
  {
   "cell_type": "markdown",
   "metadata": {},
   "source": [
    "Men du kan også få både nøglen og værdien af hvert element i ordbogen, i dette tilfælde skal du bruge en funktion `items()`:"
   ]
  },
  {
   "cell_type": "code",
   "execution_count": null,
   "metadata": {},
   "outputs": [],
   "source": [
    "dinner = {\"starter\": \"salad with tuna\", \"main dish\": \"seafood paella\", \"desert\": \"ice-cream\"}\n",
    "\n",
    "for key, val in dinner.items():\n",
    "    print(f\"for {key} we will eat {val}\")"
   ]
  },
  {
   "cell_type": "markdown",
   "metadata": {},
   "source": [
    "Sådan fungerer funktionen `itms()`:"
   ]
  },
  {
   "cell_type": "code",
   "execution_count": null,
   "metadata": {},
   "outputs": [],
   "source": [
    "dinner.items()"
   ]
  },
  {
   "cell_type": "markdown",
   "metadata": {},
   "source": [
    "Så det tager en løkke og opretter en liste af tuple `(key, value)` af hvert element i ordbogen."
   ]
  },
  {
   "cell_type": "markdown",
   "metadata": {},
   "source": [
    "Hvis du bruger en løkke over en beholder for at oprette en anden beholder, kan du gøre koden meget kortere ved at placere løkken inden i beholderparenteserne. Herunder ser du to kodelinjer. Hver celle gør det samme — tager en liste over tal, kvadrerer hvert tal og kombinerer kvadraterne til en anden liste.\n",
    "\n",
    "Her er en lang version:"
   ]
  },
  {
   "cell_type": "code",
   "execution_count": null,
   "metadata": {},
   "outputs": [],
   "source": [
    "numbers = [1, 2, 5, 10, 100]\n",
    "squares = []\n",
    "\n",
    "for n in numbers:\n",
    "    squares.append(n * n)\n",
    "\n",
    "squares"
   ]
  },
  {
   "cell_type": "markdown",
   "metadata": {},
   "source": [
    "Og her er den korte:"
   ]
  },
  {
   "cell_type": "code",
   "execution_count": null,
   "metadata": {},
   "outputs": [],
   "source": [
    "squares = [n * n for n in numbers]\n",
    "squares"
   ]
  },
  {
   "cell_type": "markdown",
   "metadata": {},
   "source": [
    "Du kan bruge lignende form med ordbøger og tuples og endda blande dem, som det er vist nedenfor:"
   ]
  },
  {
   "cell_type": "code",
   "execution_count": null,
   "metadata": {},
   "outputs": [],
   "source": [
    "# create dictionary with squares of numbers, so a number will be the key and\n",
    "# its square will be the value\n",
    "squares = {n : n * n for n in numbers}\n",
    "squares"
   ]
  },
  {
   "cell_type": "code",
   "execution_count": null,
   "metadata": {},
   "outputs": [],
   "source": [
    "squares[10]"
   ]
  },
  {
   "cell_type": "markdown",
   "metadata": {},
   "source": [
    "Ofte har vi brug for at lave en løkke for et givet antal iterationer, f.eks. 10 eller 100. At oprette manuelt en liste med 100 værdier vil være ret besværligt. Heldigvis er der en funktion i Python, der kan gøre det for dig, `range()`. Her er nogle eksempler:"
   ]
  },
  {
   "cell_type": "code",
   "execution_count": null,
   "metadata": {},
   "outputs": [],
   "source": [
    "# range(n) creates a range of values: 0, 1, 2, ... , n - 1\n",
    "for i in range(5):\n",
    "    print(i)"
   ]
  },
  {
   "cell_type": "code",
   "execution_count": null,
   "metadata": {},
   "outputs": [],
   "source": [
    "# range(a, b) creates a range of values: a, a + 1, a + 2, ..., b - 1\n",
    "for i in range(5, 10):\n",
    "    print(i)"
   ]
  },
  {
   "cell_type": "code",
   "execution_count": null,
   "metadata": {},
   "outputs": [],
   "source": [
    "# range(a, b, s) does the same but values are incremented by \"s\"\n",
    "for i in range(2, 10, 2):\n",
    "    print(i)"
   ]
  },
  {
   "cell_type": "code",
   "execution_count": null,
   "metadata": {},
   "outputs": [],
   "source": [
    "# increment (step) can be negative but in this case a must be larger than b\n",
    "for i in range(20, 10, -2):\n",
    "    print(i)"
   ]
  },
  {
   "cell_type": "markdown",
   "metadata": {},
   "source": [
    "`Range` er ikke en liste, det er et specielt objekt (vi vil diskutere objekter):"
   ]
  },
  {
   "cell_type": "code",
   "execution_count": null,
   "metadata": {},
   "outputs": [],
   "source": [
    "r = range(10)\n",
    "r"
   ]
  },
  {
   "cell_type": "markdown",
   "metadata": {},
   "source": [
    "Men du kan konvertere enhver `range` til en liste:"
   ]
  },
  {
   "cell_type": "code",
   "execution_count": null,
   "metadata": {},
   "outputs": [],
   "source": [
    "r = range(20, 10, -2)\n",
    "r"
   ]
  },
  {
   "cell_type": "code",
   "execution_count": null,
   "metadata": {},
   "outputs": [],
   "source": [
    "l = list(r)\n",
    "l"
   ]
  },
  {
   "cell_type": "markdown",
   "metadata": {},
   "source": [
    "## Logiske operationer, betingelser, forgrening\n",
    "\n",
    "Vi har allerede nævnt booleske (logiske) variabler, der kun har to værdier, `Sandt` eller `Falsk`. Men hvad skal de bruges til? De bruges til at kontrollere, om en bestemt betingelse er korrekt. For at producere booleske værdier skal du sammenligne værdierne. Her er et eksempel med seks operatører, du kan bruge til at sammenligne to værdier:"
   ]
  },
  {
   "cell_type": "code",
   "execution_count": null,
   "metadata": {},
   "outputs": [],
   "source": [
    "a = 5\n",
    "b = 6\n",
    "\n",
    "(a == b, a != b, a < b, a > b, a <= b, a >= b)"
   ]
  },
  {
   "cell_type": "markdown",
   "metadata": {},
   "source": [
    "Som du kan se, resulterede brugen af hver af de seks operatører enten i `True` eller `False`, og vi fik `True` kun i de tilfælde, hvor betingelsen faktisk var gyldig (`a < b` og `a <= b`).\n",
    "\n",
    "Du kan kombinere flere betingelser ved at bruge de logiske operatører \"and\" (`&`) og \"or\" (`|`). For eksempel kan vi i stedet for `a ≤ b` gøre det ved at bruge operatoren \"and\" og to separate sammenligninger:"
   ]
  },
  {
   "cell_type": "code",
   "execution_count": null,
   "metadata": {},
   "outputs": [],
   "source": [
    "# a is smaller than b OR a is equal two b\n",
    "# if either is True the result will be True\n",
    "(a < b) | (a == b)"
   ]
  },
  {
   "cell_type": "markdown",
   "metadata": {},
   "source": [
    "Betingelser og logiske operationer kan bruges til at lave kodegrene: hvis betingelsen er sand, vil Python udføre én handling, og hvis betingelsen er falsk, vil den udføre den anden:"
   ]
  },
  {
   "cell_type": "code",
   "execution_count": null,
   "metadata": {},
   "outputs": [],
   "source": [
    "a = 5\n",
    "b = 6\n",
    "\n",
    "if a < b:\n",
    "    print(f\"{a} is smaller than {b}\")\n",
    "else:\n",
    "    print(f\"{a} is not smaller than {b}\")"
   ]
  },
  {
   "cell_type": "markdown",
   "metadata": {},
   "source": [
    "Du kan have så mange grene, som der er brug for."
   ]
  },
  {
   "cell_type": "code",
   "execution_count": null,
   "metadata": {},
   "outputs": [],
   "source": [
    "# try to change the values and run the code\n",
    "a = 5\n",
    "b = 6\n",
    "\n",
    "if a < b:\n",
    "    print(f\"{a} is smaller than {b}\")\n",
    "elif a > b:\n",
    "    print(f\"{a} is greater than {b}\")\n",
    "else:\n",
    "    print(f\"{a} is equal to {b}\")"
   ]
  },
  {
   "cell_type": "markdown",
   "metadata": {},
   "source": [
    "Her er et eksempel på en funktion, der beregner faktorialer, og hvordan man bruger den på en smart måde med lister. Det kombinerer mange ting, vi indtil videre har lært."
   ]
  },
  {
   "cell_type": "code",
   "execution_count": null,
   "metadata": {},
   "outputs": [],
   "source": [
    "def factorial(a):\n",
    "    \"\"\" computes and returns a! (factorial of a = 1 * 2 * ... * (a - 1) * (a - 2))\"\"\"\n",
    "\n",
    "    # show error message and stop function if a is not integer\n",
    "    # note that int is not a string, it is a type object\n",
    "    if type(a) != int:\n",
    "        print(\"Parameter 'a' must be integer number!\")\n",
    "        return\n",
    "\n",
    "    # show error message and stop function if a is negative\n",
    "    if a < 0:\n",
    "        print(\"Parameter 'a' must be non-negative number!\")\n",
    "        return\n",
    "\n",
    "\n",
    "    # 0! = 1\n",
    "    if a == 0:\n",
    "        return 1\n",
    "\n",
    "    f = 1\n",
    "    for i in range(a):\n",
    "        f = f * (i + 1)\n",
    "\n",
    "    return f"
   ]
  },
  {
   "cell_type": "code",
   "execution_count": null,
   "metadata": {},
   "outputs": [],
   "source": [
    "# should show error\n",
    "factorial(-1)"
   ]
  },
  {
   "cell_type": "code",
   "execution_count": null,
   "metadata": {},
   "outputs": [],
   "source": [
    "# should show another error\n",
    "factorial(0.1)"
   ]
  },
  {
   "cell_type": "code",
   "execution_count": null,
   "metadata": {},
   "outputs": [],
   "source": [
    "# factorial of a single number\n",
    "factorial(5)"
   ]
  },
  {
   "cell_type": "code",
   "execution_count": null,
   "metadata": {},
   "outputs": [],
   "source": [
    "# factorials of a list of numbers\n",
    "numbers = [0, 1, 2, 5, 10]\n",
    "factorials = [factorial(n) for n in numbers]\n",
    "\n",
    "factorials"
   ]
  },
  {
   "cell_type": "markdown",
   "metadata": {},
   "source": [
    "## Klasser og objekter\n",
    "\n",
    "Objekter er en mere avanceret måde at opbevare og manipulere forskellige værdier. Ethvert objekt i Python kan have *egenskaber* - en af flere variabler med værdier, og *metoder* - funktioner som kan gøre noget med objektet.\n",
    "\n",
    "For at oprette et objekt, skal du først definere, hvordan det skal se ud, hvilke værdier det skal indeholde, samt hvilke metoder det skal have. Denne definition kaldes en *klasse*. Du kan tænke på en klasse som en samling af instruktioner, som fortæller Python, hvordan man skaber objektet, og hvad det kan gøre (ligesom bygningsinstruktioner til Ikea-møbler).\n",
    "\n",
    "Her er et eksempel på en klasse `Person`, der beskriver hvordan man kan oprette et objekt af denne klasse for at opbevare information om en bestemt person, vise en velkomstbesked og øge personens alder ved at fejre dens fødselsdag:"
   ]
  },
  {
   "cell_type": "code",
   "execution_count": null,
   "metadata": {},
   "outputs": [],
   "source": [
    "class Person:\n",
    "\n",
    "    def __init__(self, name, age, height):\n",
    "        \"\"\" creates object of class Person with three parameters \"\"\"\n",
    "        self.name = name\n",
    "        self.age = age\n",
    "        self.height = height\n",
    "\n",
    "    def welcome(self):\n",
    "        \"\"\" shows welcome message \"\"\"\n",
    "        print(f\"Hi, my name is {self.name}, I am {self.age} years old.\")\n",
    "\n",
    "    def celebrate_birthday(self):\n",
    "        \"\"\" increment age of the person by one year \"\"\"\n",
    "        self.age = self.age + 1"
   ]
  },
  {
   "cell_type": "markdown",
   "metadata": {},
   "source": [
    "Enhver klasse skal have en metode `__init__`. Du kan tænke på denne metode som en konstruktør, den opretter objektet ved at definere dets egenskaber og returnerer det oprettede objekt tilbage til python. Derfor tager den normalt alle værdier, som objektet skal have (i vores tilfælde navn og alder på en person og dens højde) og tildeler disse værdier til objektets egenskaber.\n",
    "\n",
    "Inde i klassen har det fremtidige objekt internt navnet `self`. Derfor har alle metoder `self` som det første argument. For at få en egenskab af et objekt tilføjer du også `self.` før egenskabsnavnet, f.eks. betyder `self.name` navn på en bestemt person.\n",
    "\n",
    "Efter at have defineret klassen kan du oprette et objekt af denne klasse og derefter bruge dette objekt ved at kalde dets metoder. Her er et eksempel:"
   ]
  },
  {
   "cell_type": "code",
   "execution_count": null,
   "metadata": {},
   "outputs": [],
   "source": [
    "p1 = Person(\"John\", 26, 167)\n",
    "p1.welcome()"
   ]
  },
  {
   "cell_type": "code",
   "execution_count": null,
   "metadata": {},
   "outputs": [],
   "source": [
    "p1.celebrate_birthday()\n",
    "p1.welcome()"
   ]
  },
  {
   "cell_type": "markdown",
   "metadata": {},
   "source": [
    "Du kan oprette en ny klasse ikke fra bunden, men ved at udvide den anden klasse. For eksempel opretter vi nedenfor klassen `Student` ved at udvide klassen `Person`. Den nye klasse vil have alt, hvad forældreklassen har (det kaldes også en superklasse) og også en ny egenskab - ordbog med aktuelle karakterer og to nye metoder - `set_exam_result()` og `show_grades()`:"
   ]
  },
  {
   "cell_type": "code",
   "execution_count": null,
   "metadata": {},
   "outputs": [],
   "source": [
    "class Student(Person):\n",
    "\n",
    "    def __init__(self, name, age, height):\n",
    "        \"\"\" creates object of class Student \"\"\"\n",
    "        super().__init__(name, age, height)\n",
    "        self.grades = {\"math\": None, \"physics\": None, \"chemistry\": None}\n",
    "\n",
    "    def set_exam_results(self, subject, grade):\n",
    "        subjects = self.grades.keys()\n",
    "\n",
    "        if not subject in subjects:\n",
    "            print(f\"Subject '{subject}' is not a part of the curriculum.\")\n",
    "            return\n",
    "\n",
    "        self.grades[subject] = grade\n",
    "\n",
    "    def show_grades(self):\n",
    "        for subject, grade in self.grades.items():\n",
    "            if grade is None:\n",
    "                print(f\"{subject}: this exam is not taken yet.\")\n",
    "            else:\n",
    "                print(f\"{subject}: the grade is {grade}\")"
   ]
  },
  {
   "cell_type": "markdown",
   "metadata": {},
   "source": [
    "Fordi navn, alder og højde er egenskaber ved en superklasse `Person`, skal vi først initialisere superklassen og derefter opbygge noget ovenpå den. Det er derfor, vi kører denne linje kode inde i `__init()__` metoden af den nye klasse:\n",
    "\n",
    "```python\n",
    "super().__init__(name, age, height)\n",
    "```\n",
    "\n",
    "Nu lad os oprette et nyt objekt af klassen `Student` og prøve en af metoderne fra dens overklasse:"
   ]
  },
  {
   "cell_type": "code",
   "execution_count": null,
   "metadata": {},
   "outputs": [],
   "source": [
    "s1 = Student(\"Lena\", 21, 167)\n",
    "s1.welcome()"
   ]
  },
  {
   "cell_type": "markdown",
   "metadata": {},
   "source": [
    "Og lad os prøve nogle af de nye metoder:"
   ]
  },
  {
   "cell_type": "code",
   "execution_count": null,
   "metadata": {},
   "outputs": [],
   "source": [
    "s1.show_grades()"
   ]
  },
  {
   "cell_type": "code",
   "execution_count": null,
   "metadata": {},
   "outputs": [],
   "source": [
    "s1.set_exam_results(\"math\", \"A\")\n",
    "s1.set_exam_results(\"chemistry\", \"B\")\n",
    "s1.show_grades()\n"
   ]
  },
  {
   "cell_type": "code",
   "execution_count": null,
   "metadata": {},
   "outputs": [],
   "source": [
    "s1.set_exam_results(\"history\", \"C\")"
   ]
  },
  {
   "cell_type": "markdown",
   "metadata": {},
   "source": [
    "## Modul og pakker\n",
    "\n",
    "Mange metoder og klasser kan genbruges enten af dig eller af andre. I så fald kan du dele din kode ved at oprette en *modul*. En modul er simpelthen en samling af funktioner og/eller klasser, som du kan bruge fra andre python-filer (f.eks. Jupyter notebooks eller python-scripts).\n",
    "\n",
    "Når du installerer Python, kommer den allerede med mange moduler, der er en del af standardbiblioteket, f.eks.:\n",
    "\n",
    "* `math` – indeholder matematiske funktioner og konstanter (som pi).\n",
    "* `random` – indeholder funktioner til at generere tilfældige tal.\n",
    "* `copy` – indeholder funktioner til at oprette kopier af komplekse strukturer, såsom ordbøger, objekter osv.\n",
    "\n",
    "Og mange andre. For at bruge funktioner fra en hvilken som helst modul skal du enten importere en bestemt funktion eller hele modulet. Koden nedenfor viser, hvordan man importerer en bestemt funktion fra en modul:"
   ]
  },
  {
   "cell_type": "code",
   "execution_count": null,
   "metadata": {},
   "outputs": [],
   "source": [
    "# import function that compute square root\n",
    "from math import sqrt\n",
    "\n",
    "p1 = (1, 1) # (x, y) coordinates of the first point\n",
    "p2 = (4, 5) # (x, y) coordinates of the second point\n",
    "\n",
    "# compute and show Euclidean distance\n",
    "d = sqrt( (p1[0] - p2[0])**2 + (p1[1] - p2[1])**2)\n",
    "\n",
    "print(f\"Distance between the two points is {d:.1f}\")"
   ]
  },
  {
   "cell_type": "markdown",
   "metadata": {},
   "source": [
    "Og her er hvordan man indlæser alle funktioner fra modulet og bruger nogle af dem:"
   ]
  },
  {
   "cell_type": "code",
   "execution_count": null,
   "metadata": {},
   "outputs": [],
   "source": [
    "# import whole module\n",
    "import math\n",
    "\n",
    "a = 2\n",
    "print(f\"square root of {a} is {math.sqrt(a):.3f}\")"
   ]
  },
  {
   "cell_type": "markdown",
   "metadata": {},
   "source": [
    "Hvis navnet på modulet er for langt, kan du give det et kort alias for at gøre koden kortere:"
   ]
  },
  {
   "cell_type": "code",
   "execution_count": null,
   "metadata": {},
   "outputs": [],
   "source": [
    "# import whole module and give it a short name\n",
    "import math as mt\n",
    "\n",
    "a = 2\n",
    "print(f\"square root of {a} is {mt.sqrt(a):.3f}\")"
   ]
  },
  {
   "cell_type": "markdown",
   "metadata": {},
   "source": [
    "En eller flere moduler kan kombineres i pakker. Enhver kan lave en pakke og dele den. For eksempel er de fleste Python-pakker tilgængelige i en særlig pakkebeholder, [PyPI](https://pypi.org). For at bruge en pakke skal du installere den først.\n",
    "\n",
    "For at installere en pakke skal du køre følgende kommando enten fra kommandolinjen eller, hvis du arbejder i Jupyter Notebook, skal du blot starte denne kommando med `!`. For eksempel kodesnippet i cellen nedenfor installerer pakken `matplotlib`, som kan bruges til at lave grafer.\n",
    "\n",
    "Kør den en gang (hvis du er på Mac, brug `pip3` i stedet for `pip`):"
   ]
  },
  {
   "cell_type": "code",
   "execution_count": null,
   "metadata": {},
   "outputs": [],
   "source": [
    "! pip install matplotlib"
   ]
  },
  {
   "cell_type": "markdown",
   "metadata": {},
   "source": [
    "Du vil se, at denne kommando faktisk installerer ikke kun `matplotlib`, men flere andre pakker, f.eks. `numpy`, `pillow` og flere andre. Disse er *afhængigheder*, forfatterne af pakken `matplotlib` genbrugte funktioner fra disse pakker for at gøre deres arbejde lettere.\n",
    "\n",
    "Hvis du allerede har installeret denne pakke, og kører denne kode igen, vil du se en besked `Krav allerede opfyldt`.\n",
    "\n",
    "Nu kan vi bruge det. I koden nedenfor indlæser vi modulet `pyplot` fra pakken `matplotlib`, giver det et kort navn `plt` og bruger derefter flere funktioner fra dette modul til at oprette et søjlediagram."
   ]
  },
  {
   "cell_type": "code",
   "execution_count": null,
   "metadata": {},
   "outputs": [],
   "source": [
    "import matplotlib.pyplot as plt\n",
    "\n",
    "names = [\"John\", \"Lena\", \"Peter\", \"Anna\"]\n",
    "height = [175, 180, 167, 171]\n",
    "\n",
    "plt.bar(names, height)\n",
    "plt.xlabel(\"Names\")\n",
    "plt.ylabel(\"Height, cm\")"
   ]
  },
  {
   "cell_type": "markdown",
   "metadata": {},
   "source": [
    "Hvis du flytter en musen cursor til navnet på pakken i koden ovenfor, vil du se en flydende dialog med hjælpetekst, som beskriver hvad denne pakke gør, og hvilke moduler den indeholder.\n",
    "\n",
    "De fleste af de populære pakker har dokumentation, som beskriver alle moduler og funktioner. For eksempel her er en [dokumentation](https://matplotlib.org/stable/index.html) for pakken `matplotlib`."
   ]
  },
  {
   "cell_type": "markdown",
   "metadata": {},
   "source": [
    "## Oversigt over pakker brugt i dette kursus\n",
    "\n",
    "Her er en oversigt over de pakker, vi vil bruge i kurset med en kort beskrivelse og et link til dokumentationen.\n",
    "\n",
    "### matplotlib\n",
    "\n",
    "Som nævnt ovenfor, er [matplotlib](https://matplotlib.org/stable/) den primære Python-pakke til at lave grafer. Den kan skabe mange forskellige typer grafer, fra de simpleste til mere avancerede med flere y-akser, komplekse layouts osv.\n",
    "\n",
    "I dette kursus vil vi kun bruge en enkelt modul af denne pakke, `pyplot`.\n",
    "\n",
    "\n",
    "### NumPy\n",
    "\n",
    "[NumPy](https://numpy.org) er den primære pakke til at arbejde med arrays (vektorer, matricer osv.) - strukturer med flere elementer, der har samme type (f.eks. heltal eller flydende punkttal). Elementerne er organiseret i rektangulære strukturer såsom vektorer, matricer, kuboider osv.\n",
    "\n",
    "NumPy gør det nemmere og hurtigere at arbejde med samlinger. For eksempel, hvis du har en samling af tal som en liste eller en tupel, skal du lave en løkke for at behandle hvert tal (f.eks. beregne kvadrater). I tilfælde af NumPy er løkker ikke nødvendige, du kan bare kvadrere hele arrayet, og NumPy vil gøre arbejdet for dig.\n",
    "\n",
    "### pillow\n",
    "\n",
    "Pakken [pillow](https://pillow.readthedocs.io/en/stable/) er en moderne version af en anden pakke, PIL, der står for Python Image Library. Som navnet antyder, indeholder denne pakke moduler og funktioner til at arbejde med billeder - indlæse dem fra filer, oprette fra arrays, vise på skærmen, udføre forskellige transformationer osv.\n",
    "\n",
    "### opencv\n",
    "\n",
    "[Open CV](https://docs.opencv.org/4.x/index.html) er sandsynligvis det mest avancerede bibliotek til billed- og videobehandling (CV står for *computer vision*). Det er tilgængeligt for mange sprog, herunder Python. Vi vil kun bruge Open CV til at optage videoer fra computerens webcam i nogle af klasserne. Men hvis du vil udføre kompleks billedbehandling, er det værd at lære biblioteket.\n",
    "\n",
    "### pandas\n",
    "\n",
    "[Pandas](https://pandas.pydata.org) er en pakke til at arbejde med dataframes. Dataframe er en måde at repræsentere tabulære data på, hvor hver kolonne er en bestemt egenskab eller karakteristik (f.eks. navn på personer, deres højde, vægt, uddannelsesniveau osv.) og hver række er en bestemt måling eller objekt (som enkeltperson). Dataframes ligner meget klassiske tabeller i Excel eller andre regnearkstyper, f.eks. Google Sheets. Ved hjælp af pandas kan du indlæse data fra CSV- eller Excel-filer, anvende forskellige filtre, sortere rækker, lave undergrupper og gøre andre nyttige ting. \n",
    "\n",
    "### pytorch/torch\n",
    "\n",
    "[Pytorch](https://pytorch.org) er et populært bibliotek til at oprette, træne, optimere og bruge forskellige kunstige neurale netværk. Det består af mange forskellige moduler, f.eks.:\n",
    "\n",
    "* `torch.nn` - indeholder byggeblokke til neurale netværk, såsom forskellige lag, tabssfunktioner osv.\n",
    "* `torch.optim` - indeholder optimeringsalgoritmer, funktioner der ændrer vægtene baseret på tabet.\n",
    "* `torch.utils` - indeholder hjælpefunktioner - funktioner, der ikke bruges direkte til ANN, men hjælper med at forberede data osv.\n",
    "\n",
    "Nogle af modulerne har også undermoduler, f.eks. `torch.nn` har et undermodul `torch.nn.functional`, der indeholder forskellige funktioner (f.eks. aktiveringsfunktioner). Modulet `torch.utils` indeholder undermodulet `torch.utils.data` til arbejde med datsæt og data loaders.    \n",
    "\n",
    "Du behøver ikke at kende alle disse på forhånd. Følg blot undervisningens indhold, og du vil med tiden lære det hele.   \n",
    "\n",
    "### torchvision  \n",
    "\n",
    "[Torchvision](https://pytorch.org/vision/stable/index.html) er et supplement til Torch/Pytorch, der gør det nemt at arbejde med billeder. Det indeholder moduler, klasser og funktioner, som lader dig oprette datasæt baseret på mapper med billeder, udføre billedtransformationer (beskæring, ændring af størrelse osv.) og andre nyttige ting. Det er uundværligt, hvis du skal bruge PyTorch til billeder.  \n",
    "\n",
    "### torchinfo   \n",
    "\n",
    "Torchinfo er en lille pakke, som giver dig information om PyTorch-modeller: hvor mange lag de har, hvor mange parametre, osv."
   ]
  }
 ],
 "metadata": {
  "kernelspec": {
   "display_name": "Python 3",
   "language": "python",
   "name": "python3"
  },
  "language_info": {
   "codemirror_mode": {
    "name": "ipython",
    "version": 3
   },
   "file_extension": ".py",
   "mimetype": "text/x-python",
   "name": "python",
   "nbconvert_exporter": "python",
   "pygments_lexer": "ipython3",
   "version": "3.8.10"
  }
 },
 "nbformat": 4,
 "nbformat_minor": 2
}
