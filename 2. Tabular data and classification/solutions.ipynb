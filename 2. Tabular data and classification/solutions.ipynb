{
 "cells": [
  {
   "cell_type": "markdown",
   "metadata": {},
   "source": [
    "# Solutions for exercises"
   ]
  },
  {
   "cell_type": "markdown",
   "metadata": {},
   "source": [
    "## Exercise 1"
   ]
  },
  {
   "cell_type": "code",
   "execution_count": null,
   "metadata": {},
   "outputs": [],
   "source": [
    "# the dataset is collected in \"countries.csv\"\n",
    "\n",
    "import pandas as pd\n",
    "d = pd.read_csv(\"countries.csv\")\n",
    "d"
   ]
  },
  {
   "cell_type": "markdown",
   "metadata": {},
   "source": [
    "## Exercise 2"
   ]
  },
  {
   "cell_type": "code",
   "execution_count": null,
   "metadata": {},
   "outputs": [],
   "source": [
    "# Countries which became part of EU after 2000.\n",
    "s = d[d[\"Year\"] > 2000]\n",
    "s"
   ]
  },
  {
   "cell_type": "code",
   "execution_count": null,
   "metadata": {},
   "outputs": [],
   "source": [
    "# Countries which became part of EU after 2000 and do not use Euro.\n",
    "s = d[(d[\"Year\"] > 2000) & (d[\"Euro\"] == \"No\")]\n",
    "s"
   ]
  },
  {
   "cell_type": "code",
   "execution_count": null,
   "metadata": {},
   "outputs": [],
   "source": [
    "# Countries which have area more than 200.000 sq. m.\n",
    "s = d[d[\"Area\"] > 200000]\n",
    "s"
   ]
  },
  {
   "cell_type": "code",
   "execution_count": null,
   "metadata": {},
   "outputs": [],
   "source": [
    "# Countries which have a population density less than 50 people per sq. m.\n",
    "s = d[d[\"Population\"] / d[\"Area\"] < 50]\n",
    "s"
   ]
  },
  {
   "cell_type": "code",
   "execution_count": null,
   "metadata": {},
   "outputs": [],
   "source": [
    "# another solution\n",
    "d[\"Density\"] = d[\"Population\"] / d[\"Area\"]\n",
    "\n",
    "s = d[d[\"Density\"] < 50]\n",
    "s"
   ]
  },
  {
   "cell_type": "markdown",
   "metadata": {},
   "source": [
    "## Exercise 3"
   ]
  },
  {
   "cell_type": "code",
   "execution_count": null,
   "metadata": {},
   "outputs": [],
   "source": [
    "import matplotlib.pyplot as plt\n",
    "\n",
    "b2000 = d[d[\"Year\"] < 2000]\n",
    "a2000 = d[d[\"Year\"] >= 2000]\n",
    "\n",
    "plt.figure(figsize=(14, 4))\n",
    "plt.bar(b2000[\"Country\"], b2000[\"Area\"], color = \"blue\", label = \"before 2000\")\n",
    "plt.bar(a2000[\"Country\"], a2000[\"Area\"], color = \"green\", label = \"2000 or after\")\n",
    "\n",
    "plt.xticks(rotation=70)\n",
    "plt.ylabel(\"Area, sq.m.\")\n",
    "plt.legend()\n"
   ]
  },
  {
   "cell_type": "code",
   "execution_count": null,
   "metadata": {},
   "outputs": [],
   "source": [
    "plt.scatter(d[\"Area\"], d[\"Population\"])\n",
    "plt.xlabel(\"Area, sq.m\")\n",
    "plt.ylabel(\"Population\")\n",
    "plt.grid(color=\"#e0e0e0\", linestyle=\":\")\n"
   ]
  },
  {
   "cell_type": "markdown",
   "metadata": {},
   "source": [
    "## Exercise 4\n",
    "\n",
    "Members\n",
    "* $TP = 44$ (red apples in the accepted group)\n",
    "* $FN = 2$ (red apples in the rejected group)\n",
    "* $Sensitivity = 44 / (2 + 44) ≈ 0.96$ (percent of red apples correctly accepted)\n",
    "\n",
    "Strangers\n",
    "* $TN = 48$ (green apples in the rejected group)\n",
    "* $FP = 6$ (green apples in the accepted group)\n",
    "* $Specificity = 48 / (6 + 48) ≈ 0.89$ (percent of green apples correctly rejected)\n",
    "\n",
    "Overall\n",
    "* $Accuracy = (48 + 44) / (2 + 44 + 6 + 48) = 92 / 100 = 0.92$ (overall percent of correct decisions)"
   ]
  },
  {
   "cell_type": "markdown",
   "metadata": {},
   "source": [
    "## Exercise 5"
   ]
  },
  {
   "cell_type": "code",
   "execution_count": null,
   "metadata": {},
   "outputs": [],
   "source": [
    "# copy of the function that makes a scatter plot\n",
    "\n",
    "def iris_scatter(d, x = \"PetalLength\", y = \"PetalWidth\", marker = \"x\"):\n",
    "\n",
    "    # make a dictionary with colors for each species\n",
    "    colors = {\"setosa\": \"red\", \"virginica\": \"blue\", \"versicolor\": \"green\"}\n",
    "\n",
    "    # get species values to separate list\n",
    "    species = d[\"Species\"]\n",
    "\n",
    "    # make a loop over unique set of species values\n",
    "    for s in species.unique():\n",
    "        # create a subset\n",
    "        ds = d[species == s]\n",
    "        #show a plot for the subset\n",
    "        plt.scatter(ds[x], ds[y], color=colors[s], label=s, marker=marker)\n",
    "\n",
    "    # add legend, labels and title\n",
    "    plt.legend()\n",
    "    plt.xlabel(x)\n",
    "    plt.ylabel(y)\n",
    "    plt.title(\"Iris dataset\")\n",
    "    plt.grid(color = \"lightgray\", linestyle = \":\")"
   ]
  },
  {
   "cell_type": "code",
   "execution_count": null,
   "metadata": {},
   "outputs": [],
   "source": [
    "# copy of the function which computes classification performance statistics\n",
    "def class_stat(res, target_class):\n",
    "\n",
    "    ref = res[\"Reference\"]\n",
    "    pred = res[\"Prediction\"]\n",
    "\n",
    "    TP = sum((ref == target_class) & (pred == target_class))\n",
    "    TN = sum((ref != target_class) & (pred != target_class))\n",
    "    FP = sum((ref != target_class) & (pred == target_class))\n",
    "    FN = sum((ref == target_class) & (pred != target_class))\n",
    "\n",
    "    sens = TP / (TP + FN)\n",
    "    spec = TN / (TN + FP)\n",
    "    acc = (TP + TN) / (TP + TN + FP + FN)\n",
    "\n",
    "    # return all statistics in form of dictionary\n",
    "    return {\n",
    "        \"target\": target_class,\n",
    "        \"TP\": TP,\n",
    "        \"TN\": TN,\n",
    "        \"FP\": FP,\n",
    "        \"FN\": FN,\n",
    "        \"sens\": sens,\n",
    "        \"spec\": spec,\n",
    "        \"acc\": acc,\n",
    "    }"
   ]
  },
  {
   "cell_type": "code",
   "execution_count": null,
   "metadata": {},
   "outputs": [],
   "source": [
    "# load data and split to train and test sets\n",
    "\n",
    "d = pd.read_csv(\"Iris.csv\")\n",
    "\n",
    "train_ind = d[\"Id\"] % 5 != 0\n",
    "test_ind = d[\"Id\"] % 5 == 0\n",
    "\n",
    "d_train = d.loc[train_ind]\n",
    "d_test = d.loc[test_ind]"
   ]
  },
  {
   "cell_type": "code",
   "execution_count": null,
   "metadata": {},
   "outputs": [],
   "source": [
    "# show scatter for petal measurements\n",
    "\n",
    "plt.figure(figsize=(10, 10))\n",
    "iris_scatter(d_train, x = \"PetalLength\", y = \"PetalWidth\")"
   ]
  },
  {
   "cell_type": "code",
   "execution_count": null,
   "metadata": {},
   "outputs": [],
   "source": [
    "# new classifier with three conditions\n",
    "\n",
    "def flower_classifier(flower):\n",
    "    if flower[\"PetalLength\"] < 2.5:\n",
    "        return \"setosa\"\n",
    "    elif flower[\"PetalWidth\"] > 1.7:\n",
    "        return \"virginica\"\n",
    "    elif flower[\"PetalLength\"] > 5.1:\n",
    "        return \"virginica\"\n",
    "    else:\n",
    "        return \"versicolor\""
   ]
  },
  {
   "cell_type": "code",
   "execution_count": null,
   "metadata": {},
   "outputs": [],
   "source": [
    "def df_classifier(d):\n",
    "    predictions = []\n",
    "    for index, flower in d.iterrows():\n",
    "        predictions.append(flower_classifier(flower))\n",
    "    return predictions"
   ]
  },
  {
   "cell_type": "code",
   "execution_count": null,
   "metadata": {},
   "outputs": [],
   "source": [
    "ref = d_test[\"Species\"]\n",
    "pred = df_classifier(d_test)\n",
    "res = pd.DataFrame({\"Reference\": ref, \"Prediction\": pred})\n",
    "res"
   ]
  },
  {
   "cell_type": "code",
   "execution_count": null,
   "metadata": {},
   "outputs": [],
   "source": [
    "stat =[]\n",
    "for class_label in ref.unique():\n",
    "    stat.append(class_stat(res, class_label))\n",
    "stat"
   ]
  }
 ],
 "metadata": {
  "kernelspec": {
   "display_name": "Python 3",
   "language": "python",
   "name": "python3"
  },
  "language_info": {
   "codemirror_mode": {
    "name": "ipython",
    "version": 3
   },
   "file_extension": ".py",
   "mimetype": "text/x-python",
   "name": "python",
   "nbconvert_exporter": "python",
   "pygments_lexer": "ipython3",
   "version": "3.8.10"
  }
 },
 "nbformat": 4,
 "nbformat_minor": 2
}
