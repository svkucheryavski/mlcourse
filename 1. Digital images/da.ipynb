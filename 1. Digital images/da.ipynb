{
 "cells": [
  {
   "cell_type": "markdown",
   "metadata": {},
   "source": [
    "# Digitale billeder\n",
    "\n",
    "Digitale billeder er repræsentation af visuel information (f.eks. et foto, en tegning osv.) på en måde, der kan gemmes og behandles af computere. Ordet *digital* betyder, at billederne er repræsenteret ved tal (cifre). \n",
    "\n",
    "I første del af kurset vil vi lære grundlæggende om digital billedbehandling og hvordan Python kan bruges til at oprette og manipulere billeder. Planen er som følger:\n",
    "\n",
    "1. Pixels og opløsning\n",
    "2. Gråtonebilleder som numeriske 2D-arrays\n",
    "3. Farvebilleder som numeriske 3D-arrays\n",
    "4. Indlæs og gem billeder i filer\n",
    "5. Tag billeder fra kamera\n",
    "6. Billedtransformationer\n",
    "7. Batchbehandling (transformer mange filer ad gangen)\n",
    "\n",
    "Lad os starte med det grundlæggende."
   ]
  },
  {
   "cell_type": "markdown",
   "metadata": {},
   "source": [
    "## Pixels og opløsning"
   ]
  },
  {
   "cell_type": "markdown",
   "metadata": {},
   "source": [
    "I modsætning til traditionelle fotos eller malerier består digitale billeder af små enheder kaldet *[pixels](https://da.wikipedia.org/wiki/Pixels). Hver pixel har en specifik farve eller intensitet, som er kodet med et eller flere tal. Så man kan tænke på et *digitale billede* som en tabel fyldt med disse tal. Cellerne i disse tabeller er pixels. En computer eller en anden enhed med en skærm omsætter disse tal til farver. Jo flere pixels du har, jo mindre er de på skærmen, og jo flere fine detaljer kan man se.\n",
    "\n",
    "Her er en simpel illustration fra Wikipedia:\n",
    "\n",
    "![Pixels](illustrations/Pixel-example.png)\n",
    "\n",
    "Antallet af kolonner i en sådan tabel er bredden af billedet, og antallet af rækker er dens højde. For eksempel betyder et billede af størrelsen 800x600, at der er 800 kolonner og 600 rækker (480.000 pixels).\n",
    "\n",
    "Antallet af pixels kaldes en billedes opløsning. For eksempel producerer et kamera på en iPhone 14 smartphone fotos med størrelsen 2532 x 1170 – næsten 3 millioner pixels. Et kamera på en iPhone 14 Plus producerer fotos med størrelsen 2778 x 1284 – næsten 3,5 millioner pixels. Professionelle fotokameraer såsom Canon EOS 1500D kan tage fotos med størrelsen 6000 x 4000, hvilket svarer til 24 millioner pixels. I dette tilfælde forkortes tallet ofte til 24 Mp (millioner pixels).\n",
    "\n",
    "Her er et eksempel på et lavopløsnings digitale billede, zoomet ind så pixels er synlige for det blotte øje:\n",
    "\n",
    "![Bird](illustrations/Bird.jpg)\n",
    "\n",
    "I nogle specifikke tilfælde, f.eks. når vi taler om en skærms opløsning, bruger vi kun antallet af pixels, der passer til skærmens bredde. For eksempel kan 4K-skærme have omkring 4000 pixels langs bredden (normalt 3840 pixels)."
   ]
  },
  {
   "cell_type": "markdown",
   "metadata": {},
   "source": [
    "## Gråtonebilleder"
   ]
  },
  {
   "cell_type": "markdown",
   "metadata": {},
   "source": [
    "Den enkleste digitale billede består af pixels, som er karakteriseret ved et enkelt tal, dens *intensitet*. Normalt bruges et helt tal mellem 0 og 255 i dette tilfælde. En computer (eller enhver anden enhed, f.eks. smartphone eller tablet) viser 0 som en sort farve, 255 som en hvid farve, og alle tal derimellem vises som gråtoner. Derfor kaldes sådanne billeder normalt *grayscale*.\n",
    "\n",
    "Åbn den første ark af [denne Excel-fil](../mlcourse.xlsm) (aktiver makroer når du åbner den), som demonstrerer ideen om gråtonebilledet, og leg med intensiteterne.\n",
    "\n",
    "I Python vil vi bruge et specielt bibliotek til at oprette tabeller med pixelintensiteter, som kaldes [NumPy](https://numpy.org). Dette bibliotek er specielt udviklet til at arbejde med *arrays* — dette er en måde at kalde tabeller og andre lignende strukturer, som kun består af tal, i matematikken. *Array* er et alsidigt ord for rektangulære strukturer med tal, som tabeller, kuber, osv. Hvis en array repræsenterer en tabel, kaldes det en to-dimensionel (2D) array eller en *matrix*.\n",
    "\n",
    "Du kan installere NumPy ved at køre følgende kode (du behøver kun at gøre det en gang og derefter enten fjerne det fra denne notebook eller tilføje symbolet `#` foran denne linje for at deaktivere den). Denne kode installerer også et andet nyttigt bibliotek, [matplotlib](https://matplotlib.org), som vi også vil bruge i denne klasse."
   ]
  },
  {
   "cell_type": "code",
   "execution_count": null,
   "metadata": {},
   "outputs": [],
   "source": [
    "! pip install numpy matplotlib"
   ]
  },
  {
   "cell_type": "markdown",
   "metadata": {},
   "source": [
    "Koden nedenfor viser, hvordan man indlæser NumPy-biblioteket, og bruger det til at generere en tabel (2D-array) med 50 rækker og 100 kolonner fyldt med værdier af 255."
   ]
  },
  {
   "cell_type": "code",
   "execution_count": null,
   "metadata": {},
   "outputs": [],
   "source": [
    "# load numpy library and give it a short name \"np\"\n",
    "import numpy as np\n",
    "\n",
    "# generate simple array (sa) with 5 rows and 10 columns filled with zeros\n",
    "sa = np.zeros((5, 10), dtype=int)\n",
    "sa"
   ]
  },
  {
   "cell_type": "code",
   "execution_count": null,
   "metadata": {},
   "outputs": [],
   "source": [
    "# fill the values with 255\n",
    "sa.fill(255)\n",
    "sa"
   ]
  },
  {
   "cell_type": "code",
   "execution_count": null,
   "metadata": {},
   "outputs": [],
   "source": [
    "# load numpy library and give it a short name \"np\"\n",
    "import numpy as np\n",
    "\n",
    "# generate array with 50 rows and 100 columns filled with 0\n",
    "# dtype=int tells python that you want to work with integer (whole) numbers without decimals\n",
    "img = np.zeros((50, 100), dtype=int)\n",
    "\n",
    "# show size of array\n",
    "img.shape"
   ]
  },
  {
   "cell_type": "code",
   "execution_count": null,
   "metadata": {},
   "outputs": [],
   "source": [
    "# fill array with 255\n",
    "img.fill(255)\n",
    "\n",
    "# show value at first (0) row and first (0) column\n",
    "img[0, 0]"
   ]
  },
  {
   "cell_type": "code",
   "execution_count": null,
   "metadata": {},
   "outputs": [],
   "source": [
    "# show values from the first 3 rows and first 5 columns of the array\n",
    "img[0:3, 0:5]"
   ]
  },
  {
   "cell_type": "markdown",
   "metadata": {},
   "source": [
    "Du kan se, at tallene i arrayet er placeret inden i \"beholdere\", som er afgrænset af firkantede parenteser, `[` og `]`, som `[255, 255, 255]`. Værdier for hver række har sin egen beholder, og derefter kombineres rækkerne sammen ved hjælp af den ydre beholder.\n",
    "\n",
    "Hvis du vil få adgang til en bestemt værdi, skal du bruge array-navnet du har angivet (i vores tilfælde `img`) og de firkantede parenteser også. For eksempel vil `img[0, 0]` give dig et tal, som er placeret i den første række og den første kolonne i arrayet med navnet `img`. I Python starter alle indekser med 0, derfor har det første element (første række eller kolonne) et indeks på 0 i stedet for 1.\n",
    "\n",
    "I NumPy kan du også specificere en sekvens af indekser inden i de firkantede parenteser, som f.eks. `0:3`. Dette betyder værdier fra 0 til 3, men den sidste er ikke inkluderet (så det ender i en sekvens af indekser `[0, 1, 2]`). Derfor fortæller denne kode `img[0:3, 0:5]` NumPy at vælge rækker fra 0 til 2 (3 rækker i alt) og kolonner fra 0 til 4 (5 kolonner).\n",
    "\n",
    "Hvis du vil vise dette array som et billede, har du brug for et andet bibliotek, `matplotlib`. Dette bibliotek bruges til at lave forskellige plot, men vi vil primært bruge det til at vise billeder. Her er hvordan du gør det:"
   ]
  },
  {
   "cell_type": "code",
   "execution_count": null,
   "metadata": {},
   "outputs": [],
   "source": [
    "# import the plotting engine of library matplotlib and give it a short name \"plt\"\n",
    "import matplotlib.pyplot as plt\n",
    "\n",
    "# show image as a plot using gray scales\n",
    "plt.imshow(img, cmap=\"gray\", clim=(0, 255))"
   ]
  },
  {
   "cell_type": "markdown",
   "metadata": {},
   "source": [
    "Som du kan se, ligner det bare en hvid rektangel omgivet af en sort boks og akser. Tallene langs akserne (ticks) svarer til pixels' indekser (husk at vi har 100 pixels i bredden og 50 i højden).\n",
    "\n",
    "Nu lad os oprette et nyt billede, hvor intensiteten af pixels vil være lig med 127 og vise det."
   ]
  },
  {
   "cell_type": "code",
   "execution_count": null,
   "metadata": {},
   "outputs": [],
   "source": [
    "# create 2D array with 50 rows and 100 columns, fill it with 0 and then fill it with 127\n",
    "img2 = np.zeros((100, 100), dtype=int)\n",
    "img2.fill(127)\n",
    "\n",
    "# show the array as an image\n",
    "plt.imshow(img2, cmap=\"gray\", clim=(0, 255))"
   ]
  },
  {
   "cell_type": "markdown",
   "metadata": {},
   "source": [
    "Som du kan se, ligner billedet en grå rektangel. Leg med koden ovenfor og brug tal, der er mindre eller større end 127, og se, hvordan det påvirker gråtonen på billedet.\n",
    "\n",
    "Nu lad os lave noget mere komplekst. Først opretter vi en 2D-array fyldt med 0, men denne gang vil antallet af kolonner være 256. Derefter tager vi hver kolonne og fylder den med forskellige tal — fra 0 til 255. For at gøre dette bruger vi et specielt kodesystem, som kaldes en *løkke*."
   ]
  },
  {
   "cell_type": "code",
   "execution_count": null,
   "metadata": {},
   "outputs": [],
   "source": [
    "# simple loop example\n",
    "for i in [1, 10, 100]:\n",
    "    print(i ** 2)"
   ]
  },
  {
   "cell_type": "code",
   "execution_count": null,
   "metadata": {},
   "outputs": [],
   "source": [
    "# generate range of numbers\n",
    "r = range(0, 5)\n",
    "r"
   ]
  },
  {
   "cell_type": "code",
   "execution_count": null,
   "metadata": {},
   "outputs": [],
   "source": [
    "# show range as a list\n",
    "list(r)"
   ]
  },
  {
   "cell_type": "code",
   "execution_count": null,
   "metadata": {},
   "outputs": [],
   "source": [
    "# loop with range\n",
    "for i in range(0, 5):\n",
    "    print(i ** 2)"
   ]
  },
  {
   "cell_type": "code",
   "execution_count": null,
   "metadata": {},
   "outputs": [],
   "source": [
    "# create 2D array filled with zeros\n",
    "img3 = np.zeros((50, 256), dtype=int)"
   ]
  },
  {
   "cell_type": "code",
   "execution_count": null,
   "metadata": {},
   "outputs": [],
   "source": [
    "# run a loop where variable \"i\" goes from 0 to 255. And use this loop to change\n",
    "# intensity values in different columns of the array\n",
    "for i in range(0, 256):\n",
    "    img3[:, i] = i\n",
    "\n",
    "# show the first 3 rows and 5 columns of the new array\n",
    "img3[0:3, 0:5]"
   ]
  },
  {
   "cell_type": "markdown",
   "metadata": {},
   "source": [
    "Som du kan se, består hver række af arrayet nu af en sekvens af tal fra 0 til 255. Lad os vise disse tal som et billede:"
   ]
  },
  {
   "cell_type": "code",
   "execution_count": null,
   "metadata": {},
   "outputs": [],
   "source": [
    "plt.imshow(img3, cmap=\"gray\", clim=(0, 255))"
   ]
  },
  {
   "cell_type": "markdown",
   "metadata": {},
   "source": [
    "Nu kan du se alle 256 nuancer af grå farve fra 0 (sort) til 255 (hvid). Men det er selvfølgelig svært at adskille de individuelle kolonner, da pixels er relativt små, og forskellen mellem to nærliggende niveauer af grå er knap nok bemærkelsesværdig.\n",
    "\n",
    "Hvis du kigger tilbage på koden med `for`-løkken, kan du se, at koden indeni løkken er forskudt mod højre. For Python er det meget vigtigt, at indrykning skal bruges til løkker, betingelser, funktioner osv., som du vil se nedenfor. Python \"forstår\", hvornår løkken slutter, når den \"ser\" en kode uden indrykning.\n",
    "\n",
    "Ved at forstå programmeringsprincipperne og ideen om at repræsentere et billede som en række af tal kan man skabe ethvert billede. For eksempel ligner billedet nedenfor det danske flag, men i sort-hvid repræsentation. Vi opretter simpelthen et sort billede (række fyldt med 0) og ændrer derefter pixels i 40 kolonner og 30 rækker placeret i midten til hvid.\n",
    "\n",
    ">**Bemærkning til læreren:**<br> diskuter hvordan man viser billeder ved hjælp af andre farvegradienter (f.eks. `spring`, `cool`, `summer`) og hvordan man tilføjer farvepalete-legen."
   ]
  },
  {
   "cell_type": "code",
   "execution_count": null,
   "metadata": {},
   "outputs": [],
   "source": [
    "# create 2D array with 300 rows and 400 columns filled with zeros\n",
    "# it will correspond to black image of size 300x400 pixels\n",
    "flag_bw = np.zeros((300, 400), dtype=int)\n",
    "\n",
    "plt.imshow(flag_bw, cmap=\"gray\", clim=(0, 255))"
   ]
  },
  {
   "cell_type": "code",
   "execution_count": null,
   "metadata": {},
   "outputs": [],
   "source": [
    "# fill the 30 rows in the middle with white color\n",
    "flag_bw[135:165, :] = 255\n",
    "\n",
    "plt.imshow(flag_bw, cmap=\"gray\", clim=(0, 255))"
   ]
  },
  {
   "cell_type": "code",
   "execution_count": null,
   "metadata": {},
   "outputs": [],
   "source": [
    "# fill the 40 columns in the middle with white color\n",
    "flag_bw[:, 180:220] = 255\n",
    "\n",
    "plt.imshow(flag_bw, cmap=\"gray\", clim=(0, 255))"
   ]
  },
  {
   "cell_type": "markdown",
   "metadata": {},
   "source": [
    "Endelig, hvis du vil vise et billede uden nogen akser eller kasser, kan du fjerne dem, som vist nedenfor."
   ]
  },
  {
   "cell_type": "code",
   "execution_count": null,
   "metadata": {},
   "outputs": [],
   "source": [
    "# show the result and remove axes\n",
    "plt.imshow(flag_bw, cmap=\"gray\", clim=(0, 255))\n",
    "plt.axis(\"off\")"
   ]
  },
  {
   "cell_type": "markdown",
   "metadata": {},
   "source": [
    "Du kan også ændre pixels ved at tage hensyn til begge koordinater — rækken og kolonnen. I dette tilfælde skal du bruge indlejrede løkker - et for rækker og et for kolonner. I det næste eksempel bruger vi en indlejret løkke til at ændre pixels på en måde, der danner en hvid trekant."
   ]
  },
  {
   "cell_type": "code",
   "execution_count": null,
   "metadata": {},
   "outputs": [],
   "source": [
    "nrows = 100 # height\n",
    "ncols = 100 # width\n",
    "\n",
    "\n",
    "img_diag = np.zeros((nrows, ncols), dtype=int)"
   ]
  },
  {
   "cell_type": "markdown",
   "metadata": {},
   "source": [
    ">**Bemærkning til læreren:**<br> Lav en tabel på tavlen, der viser, hvordan denne løkke og betingelse fungerer for r = 0, 1, 2 og 10, og et billede af en mindre størrelse (f.eks. 5 x 5 eller 10 x 10). Forklar, at det faktisk ikke er nødvendigt at lave en løkke over alle pixel i dette tilfælde, og vis hvordan man gør det korrekt."
   ]
  },
  {
   "cell_type": "code",
   "execution_count": null,
   "metadata": {},
   "outputs": [],
   "source": [
    "for r in range(0, nrows):\n",
    "    for c in range(0, ncols):\n",
    "        if c > r and c < ncols -  r:\n",
    "            img_diag[r, c] = 255"
   ]
  },
  {
   "cell_type": "code",
   "execution_count": null,
   "metadata": {},
   "outputs": [],
   "source": [
    "\n",
    "plt.imshow(img_diag, cmap=\"gray\", clim=(0, 255))"
   ]
  },
  {
   "cell_type": "markdown",
   "metadata": {},
   "source": [
    "Som du kan se, bruger vi en ny kodestruktur her, `if`, som tjekker om en bestemt betingelse er opfyldt og kører en kode kun hvis denne betingelse er sand.\n",
    "\n",
    "I dette tilfælde kontrollerer den, om den aktuelle kolonnenummer `c` er mellem to værdier. Den ene er den aktuelle rækkenummer `r` og den anden er placeret fra højre side af billedet med `r` pixels til venstre. For eksempel, hvis `r = 10`, vil betingelsen være sand for alle kolonneindeks mellem 10 og 90. Kun hvis denne betingelse er sand, vil koden `img_diag[r, c] = 255` blive udført.\n",
    "\n",
    "Bemærk indrykningerne i denne kode. Den anden `for` løkke er indlejret indeni den første, så vi skifter denne linje. Derefter skal `if`-udtalelsen køres inden i den anden `for` og har derfor en anden indrykning. Endelig skal `img_diag[r, c] = 255` kun udføres, hvis betingelsen er sand, så det skal indlejres inden i `if`-udtalelsen. Normalt har en kode linje, som indebærer indrykning, et kolon (`:`) symbol i slutningen af linjen.\n",
    "\n",
    "Prøv at lege med denne kode og se, om den virker, når bredden er større end højden eller omvendt. Prøv også at øge størrelsen på billedet og se, hvordan det påvirker størrelsen af pixelerne. Så vil \"trappe\" mønsteret på de diagonale pixels forsvinde på et tidspunkt.\n",
    "\n",
    "Endelig, bare for sjov, kan vi også generere billeder som en sæt af tilfældige tal. Hver gang du klikker på \"kør\" i næste kodecelle, vil du få et nyt billede."
   ]
  },
  {
   "cell_type": "code",
   "execution_count": null,
   "metadata": {},
   "outputs": [],
   "source": [
    "nrows = 100 # height\n",
    "ncols = 100 # width\n",
    "\n",
    "rand_img = np.random.randint(0, 255, (nrows, ncols))\n",
    "plt.imshow(rand_img, cmap=\"gray\", clim=(0, 255))"
   ]
  },
  {
   "cell_type": "markdown",
   "metadata": {},
   "source": [
    "I dette tilfælde kan du tydeligt se de individuelle pixels. Prøv at forstørre størrelsen på billedet, indtil du ikke kan skelne pixels længere. Du vil hurtigt finde ud af, at på et tidspunkt vil billedet bare se ud som et gråt billede, fordi gennemsnitsintensiteten af alle pixels er 127. **Pas på med alt for stor størrelse, koden kan blive langsom.**"
   ]
  },
  {
   "cell_type": "markdown",
   "metadata": {},
   "source": [
    "### Funktioner\n",
    "\n",
    "Som du har set ovenfor, genbruger vi nogle af kode-mønstrene igen og igen. For eksempel, for at oprette et nyt billede skal vi kalde `np.zeros()` og angive ikke kun billedets størrelse, men også typen af tallene (`int`). Det samme gælder for plots, hvor vi altid tilføjer `cmap` og `clim` værdier. Dette kan undgås ved at oprette vores egne funktioner og genbruge dem. Her er et eksempel:"
   ]
  },
  {
   "cell_type": "code",
   "execution_count": null,
   "metadata": {},
   "outputs": [],
   "source": [
    "def make_grim(nrows, ncols, fill = 0):\n",
    "    \"\"\" Creates a grayscale image with given size and fill it with a given value \"\"\"\n",
    "    img = np.zeros((nrows, ncols), dtype=int)\n",
    "    img.fill(fill)\n",
    "    return img\n",
    "\n",
    "def show_grim(img):\n",
    "    \"\"\" Plot grayscale image assuming that intensities vary from 0 to 255 \"\"\"\n",
    "    plt.imshow(img, cmap=\"gray\", clim=(0, 255))\n",
    "    plt.axis(\"off\")"
   ]
  },
  {
   "cell_type": "markdown",
   "metadata": {},
   "source": [
    "Kør koden ovenfor for at indlæse funktionerne i hukommelsen. Nu kan vi genbruge dem:"
   ]
  },
  {
   "cell_type": "code",
   "execution_count": null,
   "metadata": {},
   "outputs": [],
   "source": [
    "new_img = make_grim(100, 500, 120)\n",
    "show_grim(new_img)"
   ]
  },
  {
   "cell_type": "markdown",
   "metadata": {},
   "source": [
    "### Øvelser\n",
    "\n",
    "Tid til at øve. Skriv en kode, der genererer et sort billede med 300 x 300 pixels og opretter en hvid cirkel med radius på 50 pixels i midten fyldt med en hvid farve. Tænk på, hvordan du kan lave en cirkel uden at fylde indersiden, så billedet kun indeholder en omkreds af cirklen.\n",
    "\n",
    "For at løse denne opgave skal du behandle alle pixels på billedet og kontrollere, om en pixel er inden i cirklen eller ej. Du kan gøre dette ved at beregne afstanden mellem denne pixel og centrum af cirklen og sammenligne denne afstand med radiusen. Her er en illustration for et 150x150 pixels billede og en cirkel med radius 50 med centrum placeret på række (y) 75 og søjle (x) 75:\n",
    "\n",
    "<img src=\"illustrations/circle.png\" style=\"width:90%\">\n",
    "\n",
    "Tænk på, hvordan du kan implementere det i Python, og skriv din kode i celle nedenfor:"
   ]
  },
  {
   "cell_type": "code",
   "execution_count": null,
   "metadata": {},
   "outputs": [],
   "source": [
    "# place your code for the first exercise here\n"
   ]
  },
  {
   "cell_type": "markdown",
   "metadata": {},
   "source": [
    "Nu skal vi gøre det lidt sværere. Skriv en funktion `make_circle(nrows, ncols, cx, cy, r)`, som vil oprette et sort billede med størrelsen `nrows x ncols` og lave en cirkel med radius `r` med et centerum placeret i punktet med koordinaterne `(cx, cy)`."
   ]
  },
  {
   "cell_type": "code",
   "execution_count": null,
   "metadata": {},
   "outputs": [],
   "source": [
    "# place your function and test code here\n"
   ]
  },
  {
   "cell_type": "markdown",
   "metadata": {},
   "source": [
    "Hvis du ønsker at udfordre dig selv endnu mere, så overvej, om du skal behandle alle pixels på billedet, eller om du kan begrænse deres område? Hvordan? Hvor hurtig vil denne kode være?\n",
    "\n",
    "Prøv at tilføje en kontrol, hvis cirklen delvist er placeret uden for billedet, og behandl kun de pixels, der er indenfor."
   ]
  },
  {
   "cell_type": "markdown",
   "metadata": {},
   "source": [
    "## Farvebilleder"
   ]
  },
  {
   "cell_type": "markdown",
   "metadata": {},
   "source": [
    "Farver i digitale billeder repræsenteres ved hjælp af RGB (Rød, Grøn, Blå) modellen. Ideen bag denne model er simpel. Hvis du tager tre lyskilder (f.eks. LED eller små lamper), hvor den ene udsender rødt lys, den anden grønt og den tredje blåt. Og hvis du placerer disse tre lamper tæt på hinanden, så vil det være svært at skelne de individuelle farver på afstand, de vil blande sig til en enkelt farve. Ved at ændre intensiteten af lyset kan man lave enhver farve ud fra disse tre. For eksempel vil blanding af rød og grøn give dig gul.\n",
    "\n",
    "Billedet nedenfor (taget fra Wikipedia) illustrerer denne effekt. Tre lyskilder er projiceret mod en væg og du kan se, at hvor to lyspletter overlapper opstår en ny farve. Når alle tre lysstråler overlapper, ser det ud som hvidt lys.   \n",
    "\n",
    "<img src=\"./illustrations/RGB_illumination.jpg\" style=\"max-width:800px\"/>"
   ]
  },
  {
   "cell_type": "markdown",
   "metadata": {},
   "source": [
    "Derfor, for at vise pixels som farver har hver pixel tre værdier - intensitet af grøn, blå og rød farver. De er normalt kodede som et tal mellem 0 og 255.\n",
    "\n",
    "For eksempel, en pixel med RGB-værdier `(255, 0, 0)` er fuldt rød, mens `(0, 255, 0)` er fuldt grønt, og `(0, 0, 255)` er blå. Kombinationen af fuld intensitet i alle tre kanaler, `(255, 255, 255)`, resulterer i en hvid farve, mens fravær af intensitet i alle kanaler, `(0, 0, 0)`, resulterer i sort.\n",
    "\n",
    "Farvebilleder kræver mere lagerplads og computermæssige ressourcer på grund af tilstedeværelsen af tre kanaler for hver pixel. Gråtonebilleder kræver generelt mindre lagerplads og computermæssige ressourcer, hvilket gør det mere effektivt til visse anvendelser.\n",
    "\n",
    "Man kan tænke på et farvebillede som tre gråtonebilleder kombineret som lag, som vist på billedet nedenfor\n",
    "\n",
    "<img src=\"./illustrations/3-channel-1-channel.png\" style=\"max-width:800px\">\n",
    "\n",
    "Derfor kan vi oprette et farvebillede ved blot at oprette tre gråtonebilleder og stable dem sammen som \"lag\" af en 3D-array ved hjælp af NumPy.\n",
    "\n",
    "Åbn den anden ark i [Excel-filen](../mlcourse.xlsm) og leg med RGB-eksemplerne, og kom tilbage.\n",
    "\n",
    "Her er et eksempel på, hvordan man laver røde, grønne og gule billeder og viser dem alle på én gang."
   ]
  },
  {
   "cell_type": "code",
   "execution_count": null,
   "metadata": {},
   "outputs": [],
   "source": [
    "nrows = 100\n",
    "ncols = 100\n",
    "\n",
    "# create red image\n",
    "ch_red = make_grim(nrows, ncols, 255) # 100x100 2D array filled with 255 - red channel\n",
    "ch_green = make_grim(nrows, ncols, 0) # 100x100 2D array filled with 0 - green channel\n",
    "ch_blue = make_grim(nrows, ncols, 0) # 100x100 2D array filled with 0 - blue channel\n",
    "\n",
    "img_red = np.dstack((ch_red, ch_green, ch_blue)) # stack the channels into 3D array\n",
    "\n",
    "# show the shape\n",
    "img_red.shape"
   ]
  },
  {
   "cell_type": "code",
   "execution_count": null,
   "metadata": {},
   "outputs": [],
   "source": [
    "# show 5x5 pixels from top left corner\n",
    "img_red[0:5, 0:5, :]"
   ]
  },
  {
   "cell_type": "code",
   "execution_count": null,
   "metadata": {},
   "outputs": [],
   "source": [
    "# show the resulted array as an image\n",
    "plt.imshow(img_red)"
   ]
  },
  {
   "cell_type": "code",
   "execution_count": null,
   "metadata": {},
   "outputs": [],
   "source": [
    "# create green image\n",
    "ch_red = make_grim(nrows, ncols, 0)\n",
    "ch_green = make_grim(nrows, ncols, 255)\n",
    "ch_blue = make_grim(nrows, ncols, 0)\n",
    "\n",
    "img_green = np.dstack((ch_red, ch_green, ch_blue))\n",
    "\n",
    "plt.imshow(img_green)"
   ]
  },
  {
   "cell_type": "code",
   "execution_count": null,
   "metadata": {},
   "outputs": [],
   "source": [
    "# create yellow image\n",
    "ch_red = make_grim(nrows, ncols, 255)\n",
    "ch_green = make_grim(nrows, ncols, 255)\n",
    "ch_blue = make_grim(nrows, ncols, 0)\n",
    "\n",
    "img_yellow = np.dstack((ch_red, ch_green, ch_blue))\n",
    "\n",
    "plt.imshow(img_yellow)"
   ]
  },
  {
   "cell_type": "code",
   "execution_count": null,
   "metadata": {},
   "outputs": [],
   "source": [
    "# show all images in the same figure by using sub plots\n",
    "\n",
    "plt.subplot(1, 3, 1)\n",
    "plt.imshow(img_red)\n",
    "plt.axis(\"off\")\n",
    "\n",
    "plt.subplot(1, 3, 2)\n",
    "plt.imshow(img_yellow)\n",
    "plt.axis(\"off\")\n",
    "\n",
    "plt.subplot(1, 3, 3)\n",
    "plt.imshow(img_green)\n",
    "plt.axis(\"off\")"
   ]
  },
  {
   "cell_type": "markdown",
   "metadata": {},
   "source": [
    "Dette kan også gøres på en enklere måde, ligesom vi gjorde med de gråtonede billeder, men denne gang skal vi give alle tre intensiteter:"
   ]
  },
  {
   "cell_type": "code",
   "execution_count": null,
   "metadata": {},
   "outputs": [],
   "source": [
    "# first we create 3D array of 100x100x3 size and fill it with 0\n",
    "img_yellow = np.zeros((100, 100, 3), dtype=int)\n",
    "\n",
    "# then we assign new values — 255 (first slice) 255 (second slice) 0 (third slice)\n",
    "img_yellow[...] = [255, 255, 0]\n",
    "\n",
    "plt.imshow(img_yellow)"
   ]
  },
  {
   "cell_type": "markdown",
   "metadata": {},
   "source": [
    "Nu kan vi også se, hvad der sker, hvis vi blander de primære farver. Lad os oprette et andet billede, hvor hver kanal vil blive repræsenteret af en firkant af ikke-nul pixels. Lad os først gøre det individuelt for hver kanal:"
   ]
  },
  {
   "cell_type": "code",
   "execution_count": null,
   "metadata": {},
   "outputs": [],
   "source": [
    "nrows = 100\n",
    "ncols = 100\n",
    "\n",
    "# create a 3D array with three channels (black image)\n",
    "red_square = np.zeros((nrows, ncols, 3), dtype=int)\n",
    "\n",
    "# fill the red channel of this image with 255\n",
    "# but only pixels located in rows from 19 to 59 and in columns from 19 to 59\n",
    "red_square[20:60, 20:60, :] = [255, 0, 0]\n",
    "plt.imshow(red_square)"
   ]
  },
  {
   "cell_type": "code",
   "execution_count": null,
   "metadata": {},
   "outputs": [],
   "source": [
    "\n",
    "# create a 3D array with three channels (black image)\n",
    "green_square = np.zeros((nrows, ncols, 3), dtype=int)\n",
    "\n",
    "# fill the green channel of this image with 255\n",
    "# but only pixels located in rows from 14 to 54 and in columns from 44 to 84\n",
    "green_square[15:55, 45:85, :] = [0, 255, 0]\n",
    "plt.imshow(green_square)"
   ]
  },
  {
   "cell_type": "code",
   "execution_count": null,
   "metadata": {},
   "outputs": [],
   "source": [
    "\n",
    "# create a 3D array with three channels (black image)\n",
    "blue_square = np.zeros((nrows, ncols, 3), dtype=int)\n",
    "\n",
    "# fill the blue channel of this image with 255\n",
    "# but only pixels located in rows from 39 to 79 and in columns from 29 to 69\n",
    "blue_square[40:80, 30:70, :] = [0, 0, 255]\n",
    "plt.imshow(blue_square)"
   ]
  },
  {
   "cell_type": "code",
   "execution_count": null,
   "metadata": {},
   "outputs": [],
   "source": [
    "# show all three images together\n",
    "\n",
    "plt.subplot(1, 3, 1)\n",
    "plt.imshow(red_square)\n",
    "\n",
    "plt.subplot(1, 3, 2)\n",
    "plt.imshow(green_square)\n",
    "\n",
    "plt.subplot(1, 3, 3)\n",
    "plt.imshow(blue_square)"
   ]
  },
  {
   "cell_type": "markdown",
   "metadata": {},
   "source": [
    "Selvom vi ser dem som røde, grønne og blå, er et hvert billede en farvebillede med tre kanaler (slices). Lad os nu tage den første kanal fra det røde billede, den anden fra det grønne og den tredje fra det blå og kombinere dem sammen:"
   ]
  },
  {
   "cell_type": "code",
   "execution_count": null,
   "metadata": {},
   "outputs": [],
   "source": [
    "# stack first (0) slice from red image, second (1) slice from green and third (2) slice\n",
    "# from the blue image into a new RGB image\n",
    "merged = np.dstack(\n",
    "    (\n",
    "        red_square[:, :, 0],\n",
    "        green_square[:, :, 1],\n",
    "        blue_square[:, :, 2]\n",
    "    )\n",
    ")\n",
    "\n",
    "plt.imshow(merged)"
   ]
  },
  {
   "cell_type": "code",
   "execution_count": null,
   "metadata": {},
   "outputs": [],
   "source": [
    "# show values from different parts of the image\n",
    "merged[40:50, 50:55, :]"
   ]
  },
  {
   "cell_type": "code",
   "execution_count": null,
   "metadata": {},
   "outputs": [],
   "source": [
    "# show channels separately as shades of gray\n",
    "show_grim(merged[:, :, 2])\n",
    "plt.colorbar()"
   ]
  },
  {
   "cell_type": "markdown",
   "metadata": {},
   "source": [
    "Dette billede gengiver eksemplet fra Wikipedia, som vi tidligere diskuterede. Ved at kombinere de tre primærfarver med forskellige intensiteter kan man generere næsten enhver farve, som er synlig for det blotte øje. I vores tilfælde har vi $256^3 = 16.777.216$ kombinationer, hvilket resulterer i mere end 16 millioner forskellige farver.\n",
    "\n",
    "Til sidst vil vi gentage eksperimentet med tilfældigt genererede billeder, men denne gang for farvebilleder:"
   ]
  },
  {
   "cell_type": "code",
   "execution_count": null,
   "metadata": {},
   "outputs": [],
   "source": [
    "nrows = 100\n",
    "ncols = 100\n",
    "\n",
    "# generate random intensities for each channel\n",
    "red_channel = np.random.randint(0, 255, (nrows, ncols))\n",
    "green_channel = np.random.randint(0, 255, (nrows, ncols))\n",
    "blue_channel = np.random.randint(0, 255, (nrows, ncols))\n",
    "\n",
    "# combine/stack the matrices as slices of an RGB image and show it\n",
    "rand_img = np.dstack((red_channel, green_channel, blue_channel))\n",
    "plt.imshow(rand_img)"
   ]
  },
  {
   "cell_type": "markdown",
   "metadata": {},
   "source": [
    "### Øvelser\n",
    "\n",
    "Tid til nye øvelser. Først og fremmest skal du oprette en kode, der genererer de nationale flag fra Danmark, Sverige og Norge. Søg efter information om de korrekte farver på internettet."
   ]
  },
  {
   "cell_type": "code",
   "execution_count": null,
   "metadata": {},
   "outputs": [],
   "source": [
    "# place your code here\n"
   ]
  },
  {
   "cell_type": "markdown",
   "metadata": {},
   "source": [
    "Næste øvelse er at gentage eksemplet med overlappende kvadrater, men gør dem i stedet til cirkler. Prøv at genbruge din kode fra den lignende gråtoneøvelse."
   ]
  },
  {
   "cell_type": "code",
   "execution_count": null,
   "metadata": {},
   "outputs": [],
   "source": [
    "# place your code here\n"
   ]
  },
  {
   "cell_type": "markdown",
   "metadata": {},
   "source": [
    "Endelig lad os oprette et billede af størrelsen 256 x 256, som vil vise alle kombinationer af blå og røde farver. Gør det samme for de to andre farvepar, rød og grøn, og blå og grøn. Den tredje farve i hvert tilfælde kan sættes til 0."
   ]
  },
  {
   "cell_type": "code",
   "execution_count": null,
   "metadata": {},
   "outputs": [],
   "source": [
    "# place your code here\n"
   ]
  },
  {
   "cell_type": "markdown",
   "metadata": {},
   "source": [
    "## Indlæs og gem billeder som filer"
   ]
  },
  {
   "cell_type": "markdown",
   "metadata": {},
   "source": [
    "På en computer, gemmes billeder i forskellige filformater som PNG, JPEG, GIF eller BMP, hvor hvert format har sin egen metode til at kode og komprimere pixelinformationerne. Normalt bruges JPEG til fotos og PNG til alle andre grafikker (f.eks. diagrammer, skitser, tegneserier osv.). Dog er PNG på det seneste blevet en universel grafisk format på internettet."
   ]
  },
  {
   "cell_type": "markdown",
   "metadata": {},
   "source": [
    "Hvis du ønsker at indlæse billeder fra filer, manipulere dem og gemme resultaterne i en ny fil, skal du bruge et specifikt bibliotek. Python har to meget gode: [PIL/Pillow](https://pillow.readthedocs.io/en/stable/) og [OpenCV](https://docs.opencv.org/4.x/d6/d00/tutorial_py_root.html). Det sidste er meget kraftfuldt, mens det første er mere simpelt og lettere at starte med, så vi vil bruge PIL til denne klasse.\n",
    "\n",
    "Lad os først installere det."
   ]
  },
  {
   "cell_type": "code",
   "execution_count": null,
   "metadata": {},
   "outputs": [],
   "source": [
    "! pip install pillow"
   ]
  },
  {
   "cell_type": "markdown",
   "metadata": {},
   "source": [
    ">*PIL* står for *Python Image Library*. Udviklerne af denne bibliotek stoppede deres aktiviteter, men efterfølgere overtog deres projekt og fortsatte udviklingen under et nyt navn *Pillow*. Dog har biblioteket stadig sit originale navn, PIL, inden for Python.\n",
    "\n",
    "Nu skal vi generere et tilfældigt farvebillede og gemme det på en disk som en PNG-fil. Vi vil genbruge koden, vi tidligere skrev til generering. Lad os først se, hvordan du kan konvertere et array af tal til PIL-billedet:"
   ]
  },
  {
   "cell_type": "code",
   "execution_count": null,
   "metadata": {},
   "outputs": [],
   "source": [
    "nrows = 100\n",
    "ncols = 100\n",
    "\n",
    "# generate random intensities for each channel\n",
    "red_channel = np.random.randint(0, 255, (nrows, ncols))\n",
    "green_channel = np.random.randint(0, 255, (nrows, ncols))\n",
    "blue_channel = np.random.randint(0, 255, (nrows, ncols))"
   ]
  },
  {
   "cell_type": "code",
   "execution_count": null,
   "metadata": {},
   "outputs": [],
   "source": [
    "# combine/stack the matrices as slices of an RGB image and show it\n",
    "rand_img = np.dstack((red_channel, green_channel, blue_channel))\n",
    "plt.imshow(rand_img)"
   ]
  },
  {
   "cell_type": "code",
   "execution_count": null,
   "metadata": {},
   "outputs": [],
   "source": [
    "\n",
    "# load class Image from the library\n",
    "from PIL import Image\n",
    "\n",
    "# convert the array to PIL image\n",
    "img = Image.fromarray(np.uint8(rand_img), mode=\"RGB\")\n",
    "\n",
    "# show types of variables \"img\" and \"rand_img\"\n",
    "(type(img), type(rand_img))"
   ]
  },
  {
   "cell_type": "code",
   "execution_count": null,
   "metadata": {},
   "outputs": [],
   "source": [
    "# show image\n",
    "display(img)"
   ]
  },
  {
   "cell_type": "markdown",
   "metadata": {},
   "source": [
    ">**Bemærkning til en lærer:**<br>forklar hovedforskellen på at bruge `display()` og `plt.imshow()`.\n",
    "\n",
    "Som du kan se, for at konvertere et array til et PIL-billede objekt, skal du først \"fortælle\" Python, at dataene du har i arrayet `rand_img` er usigneret heltal data kodet med 8 bits (dette er præcis betydningen af `uint8`).\n",
    "\n",
    "Hvad betyder det? Usigneret betyder ingen tegn, så alle tal er positive. Heltal betyder hele tal, uden decimaler. Og 8 bits betyder, at hver værdi er kodet af en sekvens på 8 binære cifre, 0 og 1. For eksempel er 0 i binær format `00000000` og 255 er `11111111`. Værdien 64 er kodet som `01000000`. Og så videre.\n",
    "\n",
    "Du behøver ikke at kende disse detaljer, men det er præcis hvad der sker indeni denne blok af kode: `np.uint8(rand_img)`. Det lader Python vide, at tallene inde i dette array har denne formatering.\n",
    "\n",
    "Efter dette tager PIL-funktionen `fromarray()` dette array og returnerer et specielt objekt, PIL-billedet. Til sidst bruger vi `display()`-funktionen fra PIL-biblioteket til at vise billedet, og det vises korrekt som standard uden nogen akser, margener osv.\n",
    "\n",
    "Nu kan vi gemme resultatet i en fil, lad os bruge PNG-format i dette tilfælde."
   ]
  },
  {
   "cell_type": "code",
   "execution_count": null,
   "metadata": {},
   "outputs": [],
   "source": [
    "img.save(\"mysuperimage.png\")"
   ]
  },
  {
   "cell_type": "markdown",
   "metadata": {},
   "source": [
    "Efter at have kørt denne kode, se på venstre panel af VSCode, hvor det viser alle filer. Ser du den nye fil med dette navn? Klik på den, og du vil se billedet. Alternativt kan du navigere til denne mappe i din Windows- eller Mac-stifinder og finde filen der.\n",
    "\n",
    "På samme måde kan du indlæse billeder fra filen ind i dit Python-program og se det som en NumPy-array. Vi har forberedt nogle billeder til dig, de er placeret i mappen 'datasets'. Lad os indlæse billedet fra filen 'Apples.jpg' placeret i denne mappe."
   ]
  },
  {
   "cell_type": "code",
   "execution_count": null,
   "metadata": {},
   "outputs": [],
   "source": [
    "img = Image.open(\"datasets/Apples.jpg\")\n",
    "display(img)"
   ]
  },
  {
   "cell_type": "markdown",
   "metadata": {},
   "source": [
    "Faktisk behøver du ikke engang at bruge `display()` i Jupyter notebook- du skal bare skrive navnet på billedvariablen og køre cellen:"
   ]
  },
  {
   "cell_type": "code",
   "execution_count": null,
   "metadata": {},
   "outputs": [],
   "source": [
    "img"
   ]
  },
  {
   "cell_type": "markdown",
   "metadata": {},
   "source": [
    "Ser godt ud! Lad os se nogle oplysninger om billedet, som størrelse og farvetilstand."
   ]
  },
  {
   "cell_type": "code",
   "execution_count": null,
   "metadata": {},
   "outputs": [],
   "source": [
    "(img.size, img.mode)"
   ]
  },
  {
   "cell_type": "markdown",
   "metadata": {},
   "source": [
    "Endelig kan du konvertere billedet til en NumPy array og se, hvad der er indeni:"
   ]
  },
  {
   "cell_type": "code",
   "execution_count": null,
   "metadata": {},
   "outputs": [],
   "source": [
    "arr = np.array(img)\n",
    "arr[0:5, 0:5, :]"
   ]
  },
  {
   "cell_type": "markdown",
   "metadata": {},
   "source": [
    "Som du kan se, i disse pixels er der mere rød end de to andre farver, hvilket passer til det, vi ser i hjørnet af billedet (røde æbler).\n",
    "\n",
    "Her er størrelsen (formen) af billedarrayet versus størrelsen af billedet:"
   ]
  },
  {
   "cell_type": "code",
   "execution_count": null,
   "metadata": {},
   "outputs": [],
   "source": [
    "(img.size, arr.shape)"
   ]
  },
  {
   "cell_type": "markdown",
   "metadata": {},
   "source": [
    "Som du kan se, når det kommer til billedstørrelse, vises bredden først (800 pixels) og derefter højden (600 pixels). Men når det kommer til størrelsen af en array, vises antallet af rækker først, hvilket svarer til billedets højde. Og derefter vises antallet af kolonner (billedets bredde). Husk dette, når du arbejder direkte med arrays.\n",
    "\n",
    "Vi kan nu opdele billedet i kanaler og vise intensiteterne separat:"
   ]
  },
  {
   "cell_type": "code",
   "execution_count": null,
   "metadata": {},
   "outputs": [],
   "source": [
    "plt.subplot(1, 3, 1)\n",
    "plt.imshow(arr[:, :, 0], cmap=\"gray\", clim=[0, 255])\n",
    "plt.title(\"Red\")\n",
    "\n",
    "plt.subplot(1, 3, 2)\n",
    "plt.imshow(arr[:, :, 1], cmap=\"gray\", clim=[0, 255])\n",
    "plt.title(\"Green\")\n",
    "\n",
    "plt.subplot(1, 3, 3)\n",
    "plt.imshow(arr[:, :, 2], cmap=\"gray\", clim=[0, 255])\n",
    "plt.title(\"Blue\")"
   ]
  },
  {
   "cell_type": "markdown",
   "metadata": {},
   "source": [
    "Denne opdeling viser tydeligt, at der er mere rødt i venstre del af billedet, mere grønt i højre del, og der er næsten intet blåt i hele billedet, bortset fra de små hvide pletter (husk at hvid er når rød, grøn og blå farver har størst intensitet)."
   ]
  },
  {
   "cell_type": "markdown",
   "metadata": {},
   "source": [
    "## Tag billeder fra computerkameraet"
   ]
  },
  {
   "cell_type": "markdown",
   "metadata": {},
   "source": [
    "Du kan også optage billeder direkte fra dit computers (eller anden enheds) kameraer. For at gøre dette vil vi bruge et andet meget kraftfuldt bibliotek til at arbejde med digitale billeder og videoer - [OpenCV](https://docs.opencv.org/4.x/d6/d00/tutorial_py_root.html).\n",
    "\n",
    "Først og fremmest, lad os installere det. Kør følgende kode én gang og tilføj derefter symbolet `#` foran koden for at undgå at køre den igen."
   ]
  },
  {
   "cell_type": "code",
   "execution_count": null,
   "metadata": {},
   "outputs": [],
   "source": [
    "! pip install opencv-python"
   ]
  },
  {
   "cell_type": "markdown",
   "metadata": {},
   "source": [
    "For at optage videoframes skal du forbinde din Python-session til et kamera. Nogle computere har adskillige kameraer, så du skal specificere, hvilket kamera du vil forbinde til. Prøv bare med 0 eller 1, og det burde virke.\n",
    "\n",
    "Her er en kode til at oprette forbindelse til kameraet. Når du kører det, vil dit system (Windows eller Mac) bede om tilladelse, som du skal give. Herefter vil du se et lys på din computerskærm, hvilket indikerer, at kameraet fungerer.\n",
    "\n",
    "Hvis du stopper koden, genstarter eller lukker notesbogen, vil forbindelsen automatisk blive lukket. Du vil lære nedenfor, hvordan du manuelt lukker forbindelsen til kameraet. Lad os oprette forbindelse:"
   ]
  },
  {
   "cell_type": "code",
   "execution_count": null,
   "metadata": {},
   "outputs": [],
   "source": [
    "import cv2\n",
    "camera = cv2.VideoCapture(0)\n",
    "camera.isOpened()"
   ]
  },
  {
   "cell_type": "markdown",
   "metadata": {},
   "source": [
    "Hvis du ser kameraindikatoren lyser, fungerer det. Du bør også få `True` som resultat af funktionen `isOpened()` ovenfor.\n",
    "\n",
    "Nu lad os lære, hvordan man fanger videoframes og viser dem. Her er en simpel kode, der gør dette. Hver gang du klikker på *Kør*-knappen, tages et billede, og det vises på skærmen som et billede."
   ]
  },
  {
   "cell_type": "code",
   "execution_count": null,
   "metadata": {},
   "outputs": [],
   "source": [
    "ret, frame = camera.read()\n",
    "plt.imshow(frame)"
   ]
  },
  {
   "cell_type": "markdown",
   "metadata": {},
   "source": [
    "Hvis du kigger ind i `frame`, vil du finde ud af, at det bare er en NumPy-array, ligesom dem, vi allerede har arbejdet med før."
   ]
  },
  {
   "cell_type": "code",
   "execution_count": null,
   "metadata": {},
   "outputs": [],
   "source": [
    "frame"
   ]
  },
  {
   "cell_type": "markdown",
   "metadata": {},
   "source": [
    "Så du kan gøre med de indfangede billeder alt det, som du gør med billeder, du oprettede manuelt eller indlæste fra filer.\n",
    "\n",
    "Her er hvordan du lukker forbindelsen til kameraet:"
   ]
  },
  {
   "cell_type": "code",
   "execution_count": null,
   "metadata": {},
   "outputs": [],
   "source": [
    "camera.release()"
   ]
  },
  {
   "cell_type": "markdown",
   "metadata": {},
   "source": [
    "## Billede transformationer"
   ]
  },
  {
   "cell_type": "markdown",
   "metadata": {},
   "source": [
    "Billedtransformation betyder at producere et nyt billede baseret på det nuværende. Python gør det let at udføre grundlæggende transformationer på digitale billeder enten manuelt, ved at lave manipulationer med arrays, eller ved at bruge metoder fra dedikerede biblioteker.\n",
    "\n",
    "Nogle almindelige operationer inkluderer:\n",
    "\n",
    "**Geometriske transformationer** - ændrer positionen (geometriske koordinater) af pixelerne på et nyt billede.\n",
    "- Beskæring, spejlvending, sammenlægning\n",
    "- Ændring af størrelse\n",
    "- Rotation\n",
    "- Fordrejninger\n",
    "\n",
    "**Intensitetstransformationer** - uden at ændre pixlernes position, ændres deres farveintensitet.\n",
    "- Farvekonvertering\n",
    "- Kontrastforbedring\n",
    "- Filtrering\n",
    "\n",
    "Vi vil først lære, hvordan man laver nogle af transformationerne ved at manipulere arrays for at få fat i det grundlæggende, men derefter skifte til PIL-biblioteket, da det gør det hurtigere og lettere."
   ]
  },
  {
   "cell_type": "markdown",
   "metadata": {},
   "source": [
    "### Billedtransformationer ved arraymanipulationer\n",
    "\n",
    "Lad os starte med beskæring. *Beskæring* indebærer fjernelse af dele af billedet for at fokusere på et bestemt interesseområde, ofte brugt til at fjerne uønskede elementer i billedet. Beskæring er nemt at gøre ved at underinddele rækker og kolonner i arrayet med farveintensiteter.\n",
    "\n",
    "Lad os indlæse æblebilledet igen og konvertere det til en NumPy-array:"
   ]
  },
  {
   "cell_type": "code",
   "execution_count": null,
   "metadata": {},
   "outputs": [],
   "source": [
    "img = Image.open(\"datasets/Apples.jpg\")\n",
    "img_arr = np.array(img)\n",
    "img_arr.shape"
   ]
  },
  {
   "cell_type": "markdown",
   "metadata": {},
   "source": [
    "Vi deler billedet i to, så det første indeholder kun de røde æbler, og det andet indeholder kun de grønne.\n",
    "\n",
    "Vi ved, at bredden på det originale billede er 800 pixels (arrayet har 800 kolonner), så vi kan blot tage en delmængde af kolonnerne:"
   ]
  },
  {
   "cell_type": "code",
   "execution_count": null,
   "metadata": {},
   "outputs": [],
   "source": [
    "# take columns with indices from 0 to 399 (first 400 columns)\n",
    "red_apples = img_arr[:, 0:400]\n",
    "(img_arr.shape, red_apples.shape)"
   ]
  },
  {
   "cell_type": "code",
   "execution_count": null,
   "metadata": {},
   "outputs": [],
   "source": [
    "\n",
    "# take columns with indices from 400 to 799 (last 400 columns)\n",
    "green_apples = img_arr[:, 400:800]\n",
    "\n",
    "# show the cropped images\n",
    "plt.subplot(1, 2, 1)\n",
    "plt.imshow(red_apples)\n",
    "plt.title(\"Red\")\n",
    "\n",
    "plt.subplot(1, 2, 2)\n",
    "plt.imshow(green_apples)\n",
    "plt.title(\"Green\")"
   ]
  },
  {
   "cell_type": "markdown",
   "metadata": {},
   "source": [
    "Det virker, men vi kan se nogle røde æbler blandt de grønne. Lad os beskære billedet startende fra kolonne 500 i stedet, plus springe de første 150 rækker over. Lad os gøre det samme også for de røde æbler for at få begge billeder til at have samme størrelse:"
   ]
  },
  {
   "cell_type": "code",
   "execution_count": null,
   "metadata": {},
   "outputs": [],
   "source": [
    "# take rows with indices from 150 to 599 and columns with indices from 0 to 299 (first 300 columns)\n",
    "red_apples = img_arr[150:600, 0:300]\n",
    "\n",
    "# take columns with indices from 500 to 799 (last 300) and the same rows\n",
    "green_apples = img_arr[150:600, 500:800]\n",
    "\n",
    "# show the cropped images\n",
    "plt.subplot(1, 2, 1)\n",
    "plt.imshow(red_apples)\n",
    "plt.title(\"Red\")\n",
    "\n",
    "plt.subplot(1, 2, 2)\n",
    "plt.imshow(green_apples)\n",
    "plt.title(\"Green\")"
   ]
  },
  {
   "cell_type": "markdown",
   "metadata": {},
   "source": [
    "Ser bedre ud! Faktisk, hvis et indeks involverer den sidste række eller den sidste kolonne, kan vi springe den over og lade dens plads være tom. Det samme gælder, hvis et indeks starter med den første (nul) række eller kolonne:"
   ]
  },
  {
   "cell_type": "code",
   "execution_count": null,
   "metadata": {},
   "outputs": [],
   "source": [
    "# same operation but without explicit declaration of the last row and the first column\n",
    "red_apples = img_arr[150:, :300]\n",
    "\n",
    "# same operation but without explicit declaration of the last row and the last column\n",
    "green_apples = img_arr[150:, 500:]\n",
    "\n",
    "# show the cropped images\n",
    "plt.subplot(1, 2, 1)\n",
    "plt.imshow(red_apples)\n",
    "plt.title(\"Red\")\n",
    "\n",
    "plt.subplot(1, 2, 2)\n",
    "plt.imshow(green_apples)\n",
    "plt.title(\"Green\")"
   ]
  },
  {
   "cell_type": "markdown",
   "metadata": {},
   "source": [
    "Nu kan vi også *vende* billederne lodret eller vandret (eller begge dele) ved at ændre rækkefølgen af rækker og kolonner. I dette tilfælde skal vi give et ekstra element i sekvensen af indekser, som vil være trinnet. Hvis vi bruger trin -1 tager vi den sidste række og gør den til den første, derefter tager vi rækken foran den sidste og gør den til den anden osv.\n",
    "\n",
    "Her er hvordan det fungerer med rækker:"
   ]
  },
  {
   "cell_type": "code",
   "execution_count": null,
   "metadata": {},
   "outputs": [],
   "source": [
    "# flip image vertically by reordering rows of pixels in reverse order\n",
    "red_apples_vf = red_apples[::-1, :]\n",
    "\n",
    "# show the vertically flipped image of red apples\n",
    "plt.subplot(1, 2, 1)\n",
    "plt.imshow(red_apples)\n",
    "plt.title(\"Red (original)\")\n",
    "\n",
    "plt.subplot(1, 2, 2)\n",
    "plt.imshow(red_apples_vf)\n",
    "plt.title(\"Red (flipped vertically)\")"
   ]
  },
  {
   "cell_type": "markdown",
   "metadata": {},
   "source": [
    "Skriv en kode, der også vil vende røde æbler vertikalt og både vertikalt og horisontalt. Vis en figur med alle fire billeder sammen - det originale og de tre vendte billeder (vertikalt, horisontalt og begge)."
   ]
  },
  {
   "cell_type": "code",
   "execution_count": null,
   "metadata": {},
   "outputs": [],
   "source": [
    "# flip image vertically and horizontally by reordering rows and columns of pixels in reverse order\n",
    "red_apples_vf = red_apples[::-1, :]\n",
    "red_apples_hf = red_apples[:, ::-1]\n",
    "red_apples_bf = red_apples[::-1, ::-1]\n",
    "\n",
    "plt.figure(figsize=(6, 8))\n",
    "\n",
    "# show the cropped images\n",
    "plt.subplot(2, 2, 1)\n",
    "plt.imshow(red_apples)\n",
    "plt.title(\"Red (original)\")\n",
    "\n",
    "plt.subplot(2, 2, 2)\n",
    "plt.imshow(red_apples_vf)\n",
    "plt.title(\"Red (flipped vertically)\")\n",
    "\n",
    "plt.subplot(2, 2, 3)\n",
    "plt.imshow(red_apples_hf)\n",
    "plt.title(\"Red (flipped horizontally)\")\n",
    "\n",
    "plt.subplot(2, 2, 4)\n",
    "plt.imshow(red_apples_bf)\n",
    "plt.title(\"Red (flipped both ways)\")"
   ]
  },
  {
   "cell_type": "markdown",
   "metadata": {},
   "source": [
    "Hvis to (eller flere) billeder er repræsenteret af arrays med det samme antal rækker, kolonner eller begge dele, kan de sammenlægges til et nyt billede. Du kan sammenlægge arrays (og dermed de tilsvarende billeder) ved at stable dem lodret eller vandret. Du kan lave en sekvens af stakke. Her er et eksempel:"
   ]
  },
  {
   "cell_type": "code",
   "execution_count": null,
   "metadata": {},
   "outputs": [],
   "source": [
    "# make the crops again\n",
    "red_apples = img_arr[150:, :300]\n",
    "green_apples = img_arr[150:, 500:]\n",
    "\n",
    "# flip the images both vertically and horizontally\n",
    "red_apples_flipped = red_apples[::-1, ::-1]\n",
    "green_apples_flipped = green_apples[::-1, ::-1]\n",
    "\n",
    "# stack the images horizontally\n",
    "img_top = np.hstack((red_apples, green_apples_flipped))\n",
    "img_bottom = np.hstack((green_apples, red_apples_flipped))\n",
    "\n",
    "# stack the previous results vertically\n",
    "img = np.vstack((img_top, img_bottom))\n",
    "\n",
    "# show the result\n",
    "plt.imshow(img)\n",
    "\n",
    "# show the dimension of the new image\n",
    "img.shape"
   ]
  },
  {
   "cell_type": "code",
   "execution_count": null,
   "metadata": {},
   "outputs": [],
   "source": [
    "red_apples.shape\n",
    "more_apples = np.hstack((red_apples, red_apples, red_apples))\n",
    "\n",
    "even_more_apples = np.vstack((more_apples, more_apples))\n",
    "plt.imshow(even_more_apples)"
   ]
  },
  {
   "cell_type": "markdown",
   "metadata": {},
   "source": [
    "Her er en kode i Python, som bruger biblioteket OpenCV til at vende et billede af æble lodret, vandret og både lodret og vandret:"
   ]
  },
  {
   "cell_type": "code",
   "execution_count": null,
   "metadata": {},
   "outputs": [],
   "source": [
    "import cv2\n",
    "import numpy as np\n",
    "\n",
    "# Load and flip the image\n",
    "image = cv2.imread('datasets/Apples.jpg')\n",
    "flipped_vertical = cv2.flip(image, 0)\n",
    "flipped_horizontal = cv2.flip(image, 1)\n",
    "flipped_both = cv2.flip(image, -1)\n",
    "\n",
    "# Combine and show the images into a 2x2 grid\n",
    "top_row = np.hstack((image, flipped_vertical))\n",
    "bottom_row = np.hstack((flipped_horizontal, flipped_both))\n",
    "all_images = np.vstack((top_row, bottom_row))\n",
    "all_images = cv2.resize(all_images, (600, 600))\n",
    "\n",
    "# show the flipped images\n",
    "cv2.imshow('All Flipped Images', all_images)\n",
    "cv2.waitKey(0)\n",
    "cv2.destroyAllWindows()"
   ]
  },
  {
   "cell_type": "markdown",
   "metadata": {},
   "source": [
    "Dette vil vise et vindue med fire billeder side om side: originalt billede, vertikalt flip, horisontalt flip og begge flip."
   ]
  },
  {
   "cell_type": "markdown",
   "metadata": {},
   "source": [
    "Endelig kan du også transponere et billede ved at flippe det langs dens hoveddiagonale. Her er en illustration fra [Wikipidea](https://en.wikipedia.org/wiki/Transpose):\n",
    "\n",
    "<img src=\"illustrations/Matrix_transpose.gif\" style=\"width:200px\" >\n",
    "\n",
    "Transponering kan også udføres ved at rotere billedet med 90 grader og vende kolonnerne om. Med andre ord omdanner det simpelthen rækker til kolonner og kolonner til rækker.\n",
    "\n",
    "Da vi har et 3D array (med tre farvekanaler), er vi nødt til at fortælle NumPy eksplicit, hvordan det skal transponeres. Da rækker er den første dimension (med indeks 0), kolonner er den anden dimension (med indeks 1) og farvekanaler er den tredje dimension (med indeks 2), definerer vi den nye transponering af rækker og kolonner ved at bytte om på deres indekser:"
   ]
  },
  {
   "cell_type": "code",
   "execution_count": null,
   "metadata": {},
   "outputs": [],
   "source": [
    "# transpose image array\n",
    "img_transposed = img.transpose((1, 0, 2))\n",
    "img_transposed.shape"
   ]
  },
  {
   "cell_type": "code",
   "execution_count": null,
   "metadata": {},
   "outputs": [],
   "source": [
    "# show the result\n",
    "plt.imshow(img_transposed)"
   ]
  },
  {
   "cell_type": "markdown",
   "metadata": {},
   "source": [
    "Prøv at ændre koden ovenfor for at beskære billedet med fokus på de grønne æbler i stedet."
   ]
  },
  {
   "cell_type": "markdown",
   "metadata": {},
   "source": [
    "### Billedtransformationer i PIL\n",
    "\n",
    "Nu vil vi lære hvordan man laver transformationer i PIL. Alle transformationer kan faktisk laves manuelt ved at bruge NumPy arrays, men det vil kræve en masse kode. Derfor vil vi genbruge koden allerede skrevet af PIL/Pillow-udviklerne.\n",
    "\n",
    "Først og fremmest kan du udføre alle de operationer vi har diskuteret tidligere i PIL også. Lad os indlæse æblebilledet igen og beskære det for at fokusere på den del med de røde æbler."
   ]
  },
  {
   "cell_type": "code",
   "execution_count": null,
   "metadata": {},
   "outputs": [],
   "source": [
    "img = Image.open(\"datasets/Apples.jpg\")\n",
    "\n",
    "# defining the bounding box (left, upper, right, lower) for red apples part\n",
    "box_red = (0, 0, 300, 600)\n",
    "\n",
    "# crop the image into new ones)\n",
    "img_red = img.crop(box_red)\n",
    "\n",
    "# show the cropped image\n",
    "display(img_red)"
   ]
  },
  {
   "cell_type": "markdown",
   "metadata": {},
   "source": [
    "Du kan også vende billeder i PIL som vist i koden nedenfor:"
   ]
  },
  {
   "cell_type": "code",
   "execution_count": null,
   "metadata": {},
   "outputs": [],
   "source": [
    "img_flipped = img.transpose(Image.FLIP_LEFT_RIGHT)\n",
    "display(img_flipped)"
   ]
  },
  {
   "cell_type": "markdown",
   "metadata": {},
   "source": [
    "Her er, hvordan du ændrer størrelsen på billedet."
   ]
  },
  {
   "cell_type": "code",
   "execution_count": null,
   "metadata": {},
   "outputs": [],
   "source": [
    "# defining the new size in pixels (width, height)\n",
    "new_size = (400, 300)\n",
    "\n",
    "resized_img = img.resize(new_size)\n",
    "display(resized_img)"
   ]
  },
  {
   "cell_type": "markdown",
   "metadata": {},
   "source": [
    "Husk, at ændring af størrelsen ikke bevarer det korrekte størrelsesforhold, det er dit ansvar. Ellers kan du lave nogle forvrængninger som følgende."
   ]
  },
  {
   "cell_type": "code",
   "execution_count": null,
   "metadata": {},
   "outputs": [],
   "source": [
    "# defining the new size which does not keep the correct aspect ratio\n",
    "new_size = (400, 100)\n",
    "\n",
    "resized_img = img.resize(new_size)\n",
    "display(resized_img)"
   ]
  },
  {
   "cell_type": "markdown",
   "metadata": {},
   "source": [
    "Rotation ændrer orienteringen af et billede med en angivet vinkel, hvilket tillader justeringer af billedets orientering eller justering. Det er nyttigt til at rette skæve billeder eller opnå ønskede visuelle effekter."
   ]
  },
  {
   "cell_type": "code",
   "execution_count": null,
   "metadata": {},
   "outputs": [],
   "source": [
    "# Rotation the image by 40 degrees clockwise\n",
    "rotated_image = img.rotate(40)\n",
    "display(rotated_image)"
   ]
  },
  {
   "cell_type": "markdown",
   "metadata": {},
   "source": [
    "Som du kan se, har det roterede billede samme størrelse som originalen. Du kan ændre dette, hvis du tilføjer en ekstra argument til `rotate()` funktionen:"
   ]
  },
  {
   "cell_type": "code",
   "execution_count": null,
   "metadata": {},
   "outputs": [],
   "source": [
    "# Rotation the image by 40 degrees clockwise and resize\n",
    "rotated_image = img.rotate(40, expand=1)\n",
    "display(rotated_image)"
   ]
  },
  {
   "cell_type": "markdown",
   "metadata": {},
   "source": [
    "Du kan også forvrænge billederne ved at anvende geometrisk transformation, som ændrer pixelkoordinaterne, så de ikke passer til den originale koordinatgrid. Et eksempel på en sådan forvrængning er *skævning*.\n",
    "\n",
    "Skævning forvrænger formen på et billede langs en akse ved at flytte hvert punkt med en mængde, der er proportional med dets afstand fra en bestemt akse. Denne transformation introducerer et \"skævet\" udseende, der er nyttigt til at skabe unikke visuelle effekter eller korrigere perspektivforvridninger."
   ]
  },
  {
   "cell_type": "code",
   "execution_count": null,
   "metadata": {},
   "outputs": [],
   "source": [
    "# Defining the shearing factor\n",
    "shear_factor = 0.7\n",
    "\n",
    "# Shearing the image horizontally\n",
    "sheared_image = img.transform(img.size, Image.AFFINE, (1, shear_factor, 0, 0, 1, 0))\n",
    "\n",
    "display(sheared_image)"
   ]
  },
  {
   "cell_type": "markdown",
   "metadata": {},
   "source": [
    "Prøv at lege med skærefaktoren og se, hvordan det påvirker resultatet.\n",
    "\n",
    "Du spekulerer nok på, hvorfor fordreje billederne? Faktisk bruges disse former for transformationer mest til at gøre det modsatte — fjerne forvrængningen indført f.eks. af kameraet eller andre forhindringer. Men nogle gange er forvrængning også en måde at berige billedsættet på for at træne en god model, hvilket vi vil diskuterer det i den sidste klasse.\n",
    "\n",
    "De tre transformationer, vi diskuterede: rotation, spejling og skæring, er en del af en mere generel klasse af geometriske transformationer af billedpixels — [*affine transformationer*](https://www.graphicsmill.com/docs/gm/affine-and-projective-transformations.htm). Man kan tænke på en affin transformation som en matematisk udtryk, der tager koordinaterne for hvert pixel, f.eks. (10, 20), og derefter beregner nye koordinater for dette pixel og får disse nye koordinater til at passe til billedplanet."
   ]
  },
  {
   "cell_type": "markdown",
   "metadata": {},
   "source": [
    "### Transformation af intensiteter\n",
    "\n",
    "Den simpleste transformation med intensiteter er en konvertering mellem forskellige farvemodeller. For eksempel kan du tage et farvebillede repræsenteret af RGB (Rød, Grøn, Blå) modellen og gøre det til gråtone. Det bruges ofte til at forenkle billeder eller forberede dem til behandlingstasker.\n",
    "\n",
    "Her er et eksempel"
   ]
  },
  {
   "cell_type": "code",
   "execution_count": null,
   "metadata": {},
   "outputs": [],
   "source": [
    "# Converting an image to grayscale\n",
    "grayscale_img = img.convert(\"L\")\n",
    "display(grayscale_img)"
   ]
  },
  {
   "cell_type": "markdown",
   "metadata": {},
   "source": [
    "Andre måder at arbejde med intensiteter inkluderer punkt- eller områdefunktioner. Punktoperationer kan anvendes på hver pixel.\n",
    "\n",
    "For eksempel i koden nedenfor udfører vi en tærskelværdi-operation — vi sammenligner intensiteten af hver pixel i et gråtonebillede med 128 og returnerer enten 0 (hvis intensiteten er under eller lig med 128) eller 255 (hvis den er derover) som resultat."
   ]
  },
  {
   "cell_type": "code",
   "execution_count": null,
   "metadata": {},
   "outputs": [],
   "source": [
    "# compare intensity of every pixel with 128 and return either 255 or 0\n",
    "bw_img = grayscale_img.point(lambda p: 255 if p > 128 else 0)\n",
    "display(bw_img)"
   ]
  },
  {
   "cell_type": "markdown",
   "metadata": {},
   "source": [
    "Og her er et eksempel på at øge kontrasten i intensiteterne:"
   ]
  },
  {
   "cell_type": "code",
   "execution_count": null,
   "metadata": {},
   "outputs": [],
   "source": [
    "new_img = grayscale_img.point(lambda p: 255 * p / 200)\n",
    "new_img"
   ]
  },
  {
   "cell_type": "markdown",
   "metadata": {},
   "source": [
    "Plottet nedenfor viser, hvad der skete. Den tager alle pixels med en intensitet på 200 eller derover og får dem alle til at have en intensitet på 255. Så variationen i intensiteterne vil være større. Prøv at lege med denne kode og skab en anden kontrast."
   ]
  },
  {
   "cell_type": "code",
   "execution_count": null,
   "metadata": {},
   "outputs": [],
   "source": [
    "plt.subplot(2, 1, 1)\n",
    "plt.bar(range(0, 256), grayscale_img.histogram())\n",
    "\n",
    "plt.subplot(2, 1, 2)\n",
    "plt.bar(range(0, 256), new_img.histogram())\n"
   ]
  },
  {
   "cell_type": "markdown",
   "metadata": {},
   "source": [
    "En anden måde at ændre intensiteten af pixels på er at gøre dem afhængige af deres naboer. Denne transformation kaldes *filtrering*. Der er mange filtre tilgængelige, nogle af dem har praktisk betydning, f.eks. at fjerne støj på billeder, mens nogle primært bruges til at skabe sjove effekter.\n",
    "\n",
    "En af de mest almindelige filterfamilier er *udviskning* filtre - de udvisker fine detaljer på et billede. En af de enkleste er medianfilteret, som beregner den nye intensitet af hvert pixel ved at tage medianen af intensiteterne af dets naboer.\n",
    "\n",
    "Åbn den tredje ark i [Excel-filen](../mlcourse.xlsm) og leg med filtrerings-eksemplet, og kom så tilbage.\n",
    "\n",
    "Her er et eksempel med en filterstørrelse på 7 x 7, så medianintensiteten vil blive beregnet for et givet pixel og dets 48 naboer omkring det:"
   ]
  },
  {
   "cell_type": "code",
   "execution_count": null,
   "metadata": {},
   "outputs": [],
   "source": [
    "# load class which contains all filters from PIL\n",
    "from PIL import ImageFilter\n",
    "\n",
    "# apply median filter with window 7x7\n",
    "blurred_img = img.filter(ImageFilter.MedianFilter(size=7))\n",
    "display(blurred_img)"
   ]
  },
  {
   "cell_type": "markdown",
   "metadata": {},
   "source": [
    "Du kan naturligvis kombinere filtre i en sekvens."
   ]
  },
  {
   "cell_type": "code",
   "execution_count": null,
   "metadata": {},
   "outputs": [],
   "source": [
    "img = Image.open('datasets/Apples.jpg')\n",
    "blurred_img = img.filter(ImageFilter.MedianFilter(size=11))\n",
    "edges_img = blurred_img.filter(ImageFilter.FIND_EDGES)\n",
    "display(edges_img)"
   ]
  },
  {
   "cell_type": "markdown",
   "metadata": {},
   "source": [
    "## Batch-behandling"
   ]
  },
  {
   "cell_type": "markdown",
   "metadata": {},
   "source": [
    "Selvfølgelig kan du anvende enhver af handlingerne, du har lært ovenfor, sammen og på et stort antal billeder samtidig. Dette kaldes normalt *batchbehandling*. For at gøre det skal du følge retningslinjerne:\n",
    "\n",
    "1. Opret en funktion, der anvender alle de transformationer, du har brug for, på ét enkelt billede.\n",
    "2. Placer alle billeder, du vil transformere, i en dedikeret mappe.\n",
    "3. Opret en tom mappe til de transformerende billeder.\n",
    "\n",
    "Efter dette kan du lade Python gøre arbejdet for dig. Den har et bestemt bibliotek, `os`, som kan arbejde med filer, læse en liste over filer fra en mappe osv.\n",
    "\n",
    "Inden i `dataset`-mappen (du kan se den i højre panel i din VSCode eller i stifinder på dit system) har vi forberedt en mappe med nogle lagerfarvebilleder af naturen. De har forskellige størrelser, formater osv. Lad os skrive en kode, der vil gøre følgende:\n",
    "\n",
    "1. Indlæser hvert billede fra mappen\n",
    "3. Ændrer størrelsen til samme størrelse på 300 x 200 pixels (eller en anden)\n",
    "2. Gør det sløret med en medianfiltreringsstørrelse på 5x5\n",
    "4. Gemmer resultatet i en ny mappe\n",
    "\n",
    "Lad os begynde med at oprette en funktion, som vil udføre alle transformationer for et inputbillede og returnere resultatet som et PIL-billede. Læs koden og kør derefter cellen. Den vil ikke gøre noget, men indlæse funktionen i hukommelsen, så du kan bruge den senere."
   ]
  },
  {
   "cell_type": "code",
   "execution_count": null,
   "metadata": {},
   "outputs": [],
   "source": [
    "from PIL import ImageFilter\n",
    "\n",
    "def transform(img, new_size = (300, 200)):\n",
    "    # resize\n",
    "    img = img.resize(new_size)\n",
    "    # blur\n",
    "    img = img.filter(ImageFilter.MedianFilter(size=5))\n",
    "    # return the result\n",
    "    return img"
   ]
  },
  {
   "cell_type": "markdown",
   "metadata": {},
   "source": [
    "Nu skal vi lære, hvordan man bruger biblioteket `os` til at få alle filer fra en bestemt mappe:"
   ]
  },
  {
   "cell_type": "code",
   "execution_count": null,
   "metadata": {},
   "outputs": [],
   "source": [
    "import os\n",
    "\n",
    "# defining a directory containing images\n",
    "img_dir = \"datasets/images/\"\n",
    "\n",
    "# listing all files in the directory\n",
    "img_files = os.listdir(img_dir)\n",
    "\n",
    "img_files"
   ]
  },
  {
   "cell_type": "markdown",
   "metadata": {},
   "source": [
    "Som du kan se, returnerer metoden `os.listdir()` en liste over alle filer placeret inde i denne mappe. Nu kan vi løbe igennem filerne og udføre batchbehandling:"
   ]
  },
  {
   "cell_type": "code",
   "execution_count": null,
   "metadata": {},
   "outputs": [],
   "source": [
    "from PIL import Image\n",
    "import os\n",
    "\n",
    "# Specifying your input and output folders\n",
    "input_folder = \"datasets/images/\"\n",
    "output_folder = \"datasets/processed-images/\"\n",
    "\n",
    "# specifying the new size for the images\n",
    "new_size = (300, 200)\n",
    "\n",
    "# making sure the output folder exists, or create it\n",
    "os.makedirs(output_folder, exist_ok=True)\n"
   ]
  },
  {
   "cell_type": "code",
   "execution_count": null,
   "metadata": {},
   "outputs": [],
   "source": [
    "\n",
    "files = os.listdir(input_folder)\n",
    "\n",
    "# looping through each file in the input folder\n",
    "for filename in files:\n",
    "\n",
    "    # make full path to the input and output image\n",
    "    input_path = os.path.join(input_folder, filename)\n",
    "    output_path = os.path.join(output_folder, filename)\n",
    "\n",
    "    # read the image from file\n",
    "    img = Image.open(input_path)\n",
    "\n",
    "    # apply transformations\n",
    "    new_img = transform(img, new_size)\n",
    "\n",
    "    # save the transformed image to the output folder\n",
    "    new_img.save(output_path)"
   ]
  },
  {
   "cell_type": "markdown",
   "metadata": {},
   "source": [
    "Kør det, og du vil se, at du har fået en ny mappe inde i `datasets` — `processed-images`. Den indeholder de samme filer som i `images`, men hvis du sammenligner dem, vil du se, at alle filer i den nye mappe indeholder de transformerede billeder.\n",
    "\n",
    "### Øvelse\n",
    "\n",
    "Ændr batch-processen, så den udfører følgende transformationer:\n",
    "\n",
    "1. Den ændrer billedets størrelse, så det bliver 50% mindre (størrelsesforholdet skal være det samme).\n",
    "2. Hvis billedets højde er større end dets bredde, roterer den billedet mod uret (med større størrelse).\n",
    "3. Den konverterer billeder til gråtoneformat.\n",
    "4. Den anvender kantdetektionsfilteret.\n",
    "\n",
    "Kør proceduren, og kontroller outputmappen, så du kan se, at det virker korrekt."
   ]
  }
 ],
 "metadata": {
  "kernelspec": {
   "display_name": "Python 3 (ipykernel)",
   "language": "python",
   "name": "python3"
  },
  "language_info": {
   "codemirror_mode": {
    "name": "ipython",
    "version": 3
   },
   "file_extension": ".py",
   "mimetype": "text/x-python",
   "name": "python",
   "nbconvert_exporter": "python",
   "pygments_lexer": "ipython3",
   "version": "3.8.10"
  }
 },
 "nbformat": 4,
 "nbformat_minor": 4
}
